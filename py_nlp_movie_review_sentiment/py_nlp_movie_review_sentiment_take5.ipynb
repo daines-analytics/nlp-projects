{
 "cells": [
  {
   "cell_type": "markdown",
   "metadata": {
    "id": "BthRezPlR9Ow"
   },
   "source": [
    "# Text Classification Model for Movie Review Sentiment Analysis Using TensorFlow Take 5\n",
    "### David Lowe\n",
    "### December 25, 2020\n",
    "\n",
    "Template Credit: Adapted from a template made available by Dr. Jason Brownlee of Machine Learning Mastery. [https://machinelearningmastery.com/]\n",
    "\n",
    "SUMMARY: This project aims to construct a text classification model using a neural network and document the end-to-end steps using a template. The Movie Review Sentiment Analysis dataset is a binary classification situation where we attempt to predict one of the two possible outcomes.\n",
    "\n",
    "Additional Notes: This script is a replication, with some small modifications, of Dr. Jason Brownlee's blog post, Deep Convolutional Neural Network for Sentiment Analysis (https://machinelearningmastery.com/develop-word-embedding-model-predicting-movie-review-sentiment/). I plan to leverage Dr. Brownlee's tutorial and build a TensorFlow-based text classification notebook template for future modeling of similar datasets.\n",
    "\n",
    "INTRODUCTION: The Movie Review Data is a collection of movie reviews retrieved from the imdb.com website in the early 2000s by Bo Pang and Lillian Lee. The reviews were collected and made available as part of their research on natural language processing. The dataset comprises 1,000 positive and 1,000 negative movie reviews drawn from an archive of the rec.arts.movies.reviews newsgroup hosted at IMDB. The authors refer to this dataset as the 'polarity dataset.'\n",
    "\n",
    "We will use the last 100 positive reviews and the last 100 negative reviews as a test set (200 reviews) and the remaining 1,800 reviews as the training dataset. This is a 90% train, 10% split of the data.\n",
    "\n",
    "In iteration Take1, we constructed the necessary code modules to handle the tasks of loading text, cleaning text, and vocabulary development.\n",
    "\n",
    "In iteration Take2, we constructed a bag-of-words model and analyzed it with a simple multi-layer perceptron network.\n",
    "\n",
    "In iteration Take3, we fine-tuned the model using different Tokenizer modes in the Keras API.\n",
    "\n",
    "In iteration Take4, we will fine-tune the model using word embedding to fit a deep learning model.\n",
    "\n",
    "In this Take5 iteration, we will fine-tune the model using the Word2Vec algorithm for developing a standalone word embedding mechanism.\n",
    "\n",
    "ANALYSIS: From iteration Take2, the baseline model's performance achieved an average accuracy score of 85.81% after 25 epochs with ten iterations of cross-validation. Furthermore, the final model processed the test dataset with an accuracy measurement of 91.50%.\n",
    "\n",
    "From iteration Take3, the best model's performance (using the frequency Tokenizer mode) achieved an average accuracy score of 86.06% after 25 epochs with ten iterations of cross-validation. Furthermore, the final model processed the test dataset with an accuracy measurement of 86.50%.\n",
    "\n",
    "From iteration Take4, the best model's performance (using the word embedding with Keras) achieved an average accuracy score of 84.17% after ten epochs with ten iterations of cross-validation. Furthermore, the final model processed the test dataset with an accuracy measurement of 88.50%.\n",
    "\n",
    "In this Take5 iteration, the best model's performance (using the Word2Vec word embedding algorithm) achieved an average accuracy score of 52.61% after ten epochs with ten iterations of cross-validation. Furthermore, the final model processed the test dataset with an accuracy measurement of 49.00%.\n",
    "\n",
    "CONCLUSION: In this iteration, the Word2Vec word embedding algorithm appeared unsuitable for modeling this dataset. We should consider experimenting with other word embedding techniques for further modeling.\n",
    "\n",
    "Dataset Used: Movie Review Sentiment Analysis Dataset\n",
    "\n",
    "Dataset ML Model: Binary class text classification with text-oriented features\n",
    "\n",
    "Dataset Reference: https://www.cs.cornell.edu/home/llee/papers/cutsent.pdf and http://www.cs.cornell.edu/people/pabo/movie-review-data/review_polarity.tar.gz\n",
    "\n",
    "One potential source of performance benchmarks: https://machinelearningmastery.com/develop-word-embedding-model-predicting-movie-review-sentiment/\n",
    "\n",
    "A deep-learning text classification project generally can be broken down into five major tasks:\n",
    "\n",
    "1. Prepare Environment\n",
    "2. Load and Prepare Text Data\n",
    "3. Define and Train Models\n",
    "4. Evaluate and Optimize Models\n",
    "5. Finalize Model and Make Predictions"
   ]
  },
  {
   "cell_type": "markdown",
   "metadata": {
    "id": "IZamo1ynR9Oz"
   },
   "source": [
    "# Task 1 - Prepare Environment"
   ]
  },
  {
   "cell_type": "code",
   "execution_count": 1,
   "metadata": {
    "colab": {
     "base_uri": "https://localhost:8080/"
    },
    "id": "2N3QHMbUR9Oz",
    "outputId": "2e8152bf-215e-4bc1-f19f-3a208e1c9bfa"
   },
   "outputs": [],
   "source": [
    "# # Install the packages to support accessing environment variable and SQL databases\n",
    "# !pip install python-dotenv PyMySQL boto3"
   ]
  },
  {
   "cell_type": "code",
   "execution_count": 2,
   "metadata": {
    "colab": {
     "base_uri": "https://localhost:8080/"
    },
    "id": "ZOWG9MDAR9O2",
    "outputId": "1e1308b7-ac4e-4b11-deeb-4e3877712fa7"
   },
   "outputs": [],
   "source": [
    "# # Retrieve GPU configuration information from Colab\n",
    "# gpu_info = !nvidia-smi\n",
    "# gpu_info = '\\n'.join(gpu_info)\n",
    "# if gpu_info.find('failed') >= 0:\n",
    "#     print('Select the Runtime → \"Change runtime type\" menu to enable a GPU accelerator, ')\n",
    "#     print('and then re-execute this cell.')\n",
    "# else:\n",
    "#     print(gpu_info)"
   ]
  },
  {
   "cell_type": "code",
   "execution_count": 3,
   "metadata": {
    "colab": {
     "base_uri": "https://localhost:8080/"
    },
    "id": "ryCwWMZuR9O4",
    "outputId": "6bb39b0f-00e8-440a-e98c-1947cfd617b4"
   },
   "outputs": [],
   "source": [
    "# # Retrieve memory configuration information from Colab\n",
    "# from psutil import virtual_memory\n",
    "# ram_gb = virtual_memory().total / 1e9\n",
    "# print('Your runtime has {:.1f} gigabytes of available RAM\\n'.format(ram_gb))\n",
    "\n",
    "# if ram_gb < 20:\n",
    "#     print('To enable a high-RAM runtime, select the Runtime → \"Change runtime type\"')\n",
    "#     print('menu, and then select High-RAM in the Runtime shape dropdown. Then, ')\n",
    "#     print('re-execute this cell.')\n",
    "# else:\n",
    "#     print('You are using a high-RAM runtime!')"
   ]
  },
  {
   "cell_type": "code",
   "execution_count": 4,
   "metadata": {
    "id": "ndz3HYeFR9O6"
   },
   "outputs": [],
   "source": [
    "# # Direct Colab to use TensorFlow v2\n",
    "# %tensorflow_version 2.x"
   ]
  },
  {
   "cell_type": "code",
   "execution_count": 5,
   "metadata": {
    "colab": {
     "base_uri": "https://localhost:8080/"
    },
    "id": "WfPiU9LaR9O7",
    "outputId": "6a68c8f3-d61e-4bb9-e6af-e2f946c184f4"
   },
   "outputs": [
    {
     "name": "stdout",
     "output_type": "stream",
     "text": [
      "The number of available CPUs is: 4\n"
     ]
    }
   ],
   "source": [
    "# Retrieve CPU information from the system\n",
    "ncpu = !nproc\n",
    "print(\"The number of available CPUs is:\", ncpu[0])"
   ]
  },
  {
   "cell_type": "markdown",
   "metadata": {
    "id": "hUw0fDwqR9O-"
   },
   "source": [
    "## 1.a) Load libraries and modules"
   ]
  },
  {
   "cell_type": "code",
   "execution_count": 6,
   "metadata": {
    "id": "UpJD2SzRR9O-"
   },
   "outputs": [],
   "source": [
    "# Set the random seed number for reproducible results\n",
    "seedNum = 888"
   ]
  },
  {
   "cell_type": "code",
   "execution_count": 7,
   "metadata": {
    "colab": {
     "base_uri": "https://localhost:8080/"
    },
    "id": "5yDoBs19R9PA",
    "outputId": "5c5761c9-d774-4ba8-ba19-79a10c9f6a6e"
   },
   "outputs": [],
   "source": [
    "# Load libraries and packages\n",
    "import random\n",
    "random.seed(seedNum)\n",
    "import numpy as np\n",
    "np.random.seed(seedNum)\n",
    "import pandas as pd\n",
    "import matplotlib.pyplot as plt\n",
    "import matplotlib.image as mpimg\n",
    "import os\n",
    "import sys\n",
    "import boto3\n",
    "import shutil\n",
    "import string\n",
    "import nltk\n",
    "import gensim\n",
    "from nltk.corpus import stopwords\n",
    "from collections import Counter\n",
    "from datetime import datetime\n",
    "from dotenv import load_dotenv\n",
    "from sklearn.model_selection import RepeatedKFold\n",
    "from sklearn.metrics import accuracy_score\n",
    "from sklearn.metrics import confusion_matrix\n",
    "from sklearn.metrics import classification_report\n",
    "import tensorflow as tf\n",
    "tf.random.set_seed(seedNum)\n",
    "from tensorflow import keras\n",
    "from tensorflow.keras import layers\n",
    "from tensorflow.keras.preprocessing.text import Tokenizer\n",
    "from tensorflow.keras.preprocessing.sequence import pad_sequences\n",
    "from tensorflow.keras.callbacks import ReduceLROnPlateau"
   ]
  },
  {
   "cell_type": "code",
   "execution_count": 8,
   "metadata": {},
   "outputs": [
    {
     "name": "stderr",
     "output_type": "stream",
     "text": [
      "[nltk_data] Downloading collection 'popular'\n",
      "[nltk_data]    | \n",
      "[nltk_data]    | Downloading package cmudict to\n",
      "[nltk_data]    |     /home/pythonml/nltk_data...\n",
      "[nltk_data]    |   Package cmudict is already up-to-date!\n",
      "[nltk_data]    | Downloading package gazetteers to\n",
      "[nltk_data]    |     /home/pythonml/nltk_data...\n",
      "[nltk_data]    |   Package gazetteers is already up-to-date!\n",
      "[nltk_data]    | Downloading package genesis to\n",
      "[nltk_data]    |     /home/pythonml/nltk_data...\n",
      "[nltk_data]    |   Package genesis is already up-to-date!\n",
      "[nltk_data]    | Downloading package gutenberg to\n",
      "[nltk_data]    |     /home/pythonml/nltk_data...\n",
      "[nltk_data]    |   Package gutenberg is already up-to-date!\n",
      "[nltk_data]    | Downloading package inaugural to\n",
      "[nltk_data]    |     /home/pythonml/nltk_data...\n",
      "[nltk_data]    |   Package inaugural is already up-to-date!\n",
      "[nltk_data]    | Downloading package movie_reviews to\n",
      "[nltk_data]    |     /home/pythonml/nltk_data...\n",
      "[nltk_data]    |   Package movie_reviews is already up-to-date!\n",
      "[nltk_data]    | Downloading package names to\n",
      "[nltk_data]    |     /home/pythonml/nltk_data...\n",
      "[nltk_data]    |   Package names is already up-to-date!\n",
      "[nltk_data]    | Downloading package shakespeare to\n",
      "[nltk_data]    |     /home/pythonml/nltk_data...\n",
      "[nltk_data]    |   Package shakespeare is already up-to-date!\n",
      "[nltk_data]    | Downloading package stopwords to\n",
      "[nltk_data]    |     /home/pythonml/nltk_data...\n",
      "[nltk_data]    |   Package stopwords is already up-to-date!\n",
      "[nltk_data]    | Downloading package treebank to\n",
      "[nltk_data]    |     /home/pythonml/nltk_data...\n",
      "[nltk_data]    |   Package treebank is already up-to-date!\n",
      "[nltk_data]    | Downloading package twitter_samples to\n",
      "[nltk_data]    |     /home/pythonml/nltk_data...\n",
      "[nltk_data]    |   Package twitter_samples is already up-to-date!\n",
      "[nltk_data]    | Downloading package omw to\n",
      "[nltk_data]    |     /home/pythonml/nltk_data...\n",
      "[nltk_data]    |   Package omw is already up-to-date!\n",
      "[nltk_data]    | Downloading package wordnet to\n",
      "[nltk_data]    |     /home/pythonml/nltk_data...\n",
      "[nltk_data]    |   Package wordnet is already up-to-date!\n",
      "[nltk_data]    | Downloading package wordnet_ic to\n",
      "[nltk_data]    |     /home/pythonml/nltk_data...\n",
      "[nltk_data]    |   Package wordnet_ic is already up-to-date!\n",
      "[nltk_data]    | Downloading package words to\n",
      "[nltk_data]    |     /home/pythonml/nltk_data...\n",
      "[nltk_data]    |   Package words is already up-to-date!\n",
      "[nltk_data]    | Downloading package maxent_ne_chunker to\n",
      "[nltk_data]    |     /home/pythonml/nltk_data...\n",
      "[nltk_data]    |   Package maxent_ne_chunker is already up-to-date!\n",
      "[nltk_data]    | Downloading package punkt to\n",
      "[nltk_data]    |     /home/pythonml/nltk_data...\n",
      "[nltk_data]    |   Package punkt is already up-to-date!\n",
      "[nltk_data]    | Downloading package snowball_data to\n",
      "[nltk_data]    |     /home/pythonml/nltk_data...\n",
      "[nltk_data]    |   Package snowball_data is already up-to-date!\n",
      "[nltk_data]    | Downloading package averaged_perceptron_tagger to\n",
      "[nltk_data]    |     /home/pythonml/nltk_data...\n",
      "[nltk_data]    |   Package averaged_perceptron_tagger is already up-\n",
      "[nltk_data]    |       to-date!\n",
      "[nltk_data]    | \n",
      "[nltk_data]  Done downloading collection popular\n"
     ]
    },
    {
     "data": {
      "text/plain": [
       "True"
      ]
     },
     "execution_count": 8,
     "metadata": {},
     "output_type": "execute_result"
    }
   ],
   "source": [
    "nltk.download('popular')"
   ]
  },
  {
   "cell_type": "markdown",
   "metadata": {
    "id": "RcIz9xXxR9PC"
   },
   "source": [
    "## 1.b) Set up the controlling parameters and functions"
   ]
  },
  {
   "cell_type": "code",
   "execution_count": 9,
   "metadata": {
    "colab": {
     "base_uri": "https://localhost:8080/"
    },
    "id": "YecJPSrfR9PC",
    "outputId": "bc0304a5-e471-4568-826e-750a5220e2a7"
   },
   "outputs": [
    {
     "name": "stdout",
     "output_type": "stream",
     "text": [
      "Num GPUs Available: 0\n",
      "TensorFlow version: 2.3.1\n"
     ]
    }
   ],
   "source": [
    "# Begin the timer for the script processing\n",
    "startTimeScript = datetime.now()\n",
    "\n",
    "# Set up the number of CPU cores available for multi-thread processing\n",
    "n_jobs = 2\n",
    "\n",
    "# Set up the flag to stop sending progress emails (setting to True will send status emails!)\n",
    "notifyStatus = False\n",
    "\n",
    "# Set Pandas options\n",
    "pd.set_option(\"display.max_rows\", None)\n",
    "pd.set_option(\"display.max_columns\", None)\n",
    "pd.set_option(\"display.width\", 140)\n",
    "\n",
    "# Set the percentage sizes for splitting the dataset\n",
    "test_set_size = 0.2\n",
    "val_set_size = 0.25\n",
    "\n",
    "# Set the number of folds for cross validation\n",
    "n_folds = 5\n",
    "n_iterations = 1\n",
    "\n",
    "# Set various default modeling parameters\n",
    "default_loss = 'binary_crossentropy'\n",
    "default_metrics = ['accuracy']\n",
    "default_optimizer = tf.keras.optimizers.Adam(learning_rate=0.001)\n",
    "default_kernel_init = tf.keras.initializers.RandomNormal(seed=seedNum)\n",
    "default_epochs = 10\n",
    "default_batch_size = 16\n",
    "default_vector_space = 100\n",
    "default_filters = 128\n",
    "default_kernel_size = 5\n",
    "default_pool_size = 2\n",
    "default_neighbors = 5\n",
    "\n",
    "# Define the labels to use for graphing the data\n",
    "train_metric = \"accuracy\"\n",
    "validation_metric = \"val_accuracy\"\n",
    "train_loss = \"loss\"\n",
    "validation_loss = \"val_loss\"\n",
    "\n",
    "# Check the number of GPUs accessible through TensorFlow\n",
    "print('Num GPUs Available:', len(tf.config.list_physical_devices('GPU')))\n",
    "\n",
    "# Print out the TensorFlow version for confirmation\n",
    "print('TensorFlow version:', tf.__version__)"
   ]
  },
  {
   "cell_type": "code",
   "execution_count": 10,
   "metadata": {
    "id": "ggPdMUQfR9PE"
   },
   "outputs": [],
   "source": [
    "# Set up the parent directory location for loading the dotenv files\n",
    "# useColab = True\n",
    "# if useColab:\n",
    "#     # Mount Google Drive locally for storing files\n",
    "#     from google.colab import drive\n",
    "#     drive.mount('/content/gdrive')\n",
    "#     gdrivePrefix = '/content/gdrive/My Drive/Colab_Downloads/'\n",
    "#     env_path = '/content/gdrive/My Drive/Colab Notebooks/'\n",
    "#     dotenv_path = env_path + \"python_script.env\"\n",
    "#     load_dotenv(dotenv_path=dotenv_path)\n",
    "\n",
    "# Set up the dotenv file for retrieving environment variables\n",
    "# useLocalPC = True\n",
    "# if useLocalPC:\n",
    "#     env_path = \"/Users/david/PycharmProjects/\"\n",
    "#     dotenv_path = env_path + \"python_script.env\"\n",
    "#     load_dotenv(dotenv_path=dotenv_path)"
   ]
  },
  {
   "cell_type": "code",
   "execution_count": 11,
   "metadata": {
    "id": "1j-y-SvmR9PG"
   },
   "outputs": [],
   "source": [
    "# Set up the email notification function\n",
    "def status_notify(msg_text):\n",
    "    access_key = os.environ.get('SNS_ACCESS_KEY')\n",
    "    secret_key = os.environ.get('SNS_SECRET_KEY')\n",
    "    aws_region = os.environ.get('SNS_AWS_REGION')\n",
    "    topic_arn = os.environ.get('SNS_TOPIC_ARN')\n",
    "    if (access_key is None) or (secret_key is None) or (aws_region is None):\n",
    "        sys.exit(\"Incomplete notification setup info. Script Processing Aborted!!!\")\n",
    "    sns = boto3.client('sns', aws_access_key_id=access_key, aws_secret_access_key=secret_key, region_name=aws_region)\n",
    "    response = sns.publish(TopicArn=topic_arn, Message=msg_text)\n",
    "    if response['ResponseMetadata']['HTTPStatusCode'] != 200 :\n",
    "        print('Status notification not OK with HTTP status code:', response['ResponseMetadata']['HTTPStatusCode'])"
   ]
  },
  {
   "cell_type": "code",
   "execution_count": 12,
   "metadata": {
    "id": "KDY6p9pWR9PI"
   },
   "outputs": [],
   "source": [
    "if notifyStatus: status_notify('(TensorFlow Text Classification) Task 1 - Prepare Environment has begun on ' + datetime.now().strftime('%A %B %d, %Y %I:%M:%S %p'))"
   ]
  },
  {
   "cell_type": "code",
   "execution_count": 13,
   "metadata": {
    "id": "YQtFgiRNR9PJ"
   },
   "outputs": [],
   "source": [
    "# Reset the random number generators\n",
    "def reset_random(x):\n",
    "    random.seed(x)\n",
    "    np.random.seed(x)\n",
    "    tf.random.set_seed(x)"
   ]
  },
  {
   "cell_type": "code",
   "execution_count": 14,
   "metadata": {
    "collapsed": false,
    "id": "7auUp3NTR9PL",
    "jupyter": {
     "outputs_hidden": false
    },
    "pycharm": {
     "name": "#%%\n"
    }
   },
   "outputs": [],
   "source": [
    "if notifyStatus: status_notify('(TensorFlow Text Classification) Task 1 - Prepare Environment completed on ' + datetime.now().strftime('%A %B %d, %Y %I:%M:%S %p'))"
   ]
  },
  {
   "cell_type": "markdown",
   "metadata": {
    "id": "HkkVYtk_R9PN"
   },
   "source": [
    "# Task 2 - Load and Prepare Text Data"
   ]
  },
  {
   "cell_type": "code",
   "execution_count": 15,
   "metadata": {
    "collapsed": false,
    "id": "pX4nz8fYR9PN",
    "jupyter": {
     "outputs_hidden": false
    },
    "pycharm": {
     "name": "#%%\n"
    }
   },
   "outputs": [],
   "source": [
    "if notifyStatus: status_notify('(TensorFlow Text Classification) Task 2 - Load and Prepare Text Data has begun on ' + datetime.now().strftime('%A %B %d, %Y %I:%M:%S %p'))"
   ]
  },
  {
   "cell_type": "markdown",
   "metadata": {},
   "source": [
    "## 2.a) Download Text Data Archive"
   ]
  },
  {
   "cell_type": "code",
   "execution_count": 16,
   "metadata": {
    "id": "72uuLoG4R9PP"
   },
   "outputs": [],
   "source": [
    "# Clean up the old files and download directories before receiving new ones\n",
    "!rm -rf staging/\n",
    "!rm review_polarity.tar.gz\n",
    "!rm vocabulary.txt"
   ]
  },
  {
   "cell_type": "code",
   "execution_count": 17,
   "metadata": {
    "colab": {
     "base_uri": "https://localhost:8080/"
    },
    "id": "zpFEjo72R9PR",
    "outputId": "dd05f54a-fac8-40d3-e4a2-724354b083dd"
   },
   "outputs": [
    {
     "name": "stdout",
     "output_type": "stream",
     "text": [
      "--2020-12-13 00:26:39--  https://dainesanalytics.com/datasets/cornell-movie-review-polarity/review_polarity.tar.gz\n",
      "Resolving dainesanalytics.com (dainesanalytics.com)... 13.225.150.103, 13.225.150.58, 13.225.150.31, ...\n",
      "Connecting to dainesanalytics.com (dainesanalytics.com)|13.225.150.103|:443... connected.\n",
      "HTTP request sent, awaiting response... 200 OK\n",
      "Length: 3127238 (3.0M) [application/x-gzip]\n",
      "Saving to: ‘review_polarity.tar.gz’\n",
      "\n",
      "review_polarity.tar 100%[===================>]   2.98M  11.8MB/s    in 0.3s    \n",
      "\n",
      "2020-12-13 00:26:39 (11.8 MB/s) - ‘review_polarity.tar.gz’ saved [3127238/3127238]\n",
      "\n"
     ]
    }
   ],
   "source": [
    "!wget https://dainesanalytics.com/datasets/cornell-movie-review-polarity/review_polarity.tar.gz"
   ]
  },
  {
   "cell_type": "markdown",
   "metadata": {},
   "source": [
    "## 2.b) Splitting Data for Training and Validation"
   ]
  },
  {
   "cell_type": "code",
   "execution_count": 18,
   "metadata": {
    "id": "toRUbKUuR9PV"
   },
   "outputs": [],
   "source": [
    "staging_dir = 'staging/'\n",
    "!mkdir staging/\n",
    "!mkdir staging/testing/\n",
    "!mkdir staging/testing/pos/\n",
    "!mkdir staging/testing/neg/"
   ]
  },
  {
   "cell_type": "code",
   "execution_count": 19,
   "metadata": {
    "id": "tJJNvd7fR9PX"
   },
   "outputs": [],
   "source": [
    "local_archive = 'review_polarity.tar.gz'\n",
    "shutil.unpack_archive(local_archive, staging_dir)"
   ]
  },
  {
   "cell_type": "code",
   "execution_count": 20,
   "metadata": {
    "id": "z-RNe5RDR9PY"
   },
   "outputs": [],
   "source": [
    "training_dir = 'staging/txt_sentoken/'\n",
    "testing_dir = 'staging/testing/'\n",
    "classA_name = 'pos'\n",
    "classB_name = 'neg'"
   ]
  },
  {
   "cell_type": "code",
   "execution_count": 21,
   "metadata": {},
   "outputs": [
    {
     "name": "stdout",
     "output_type": "stream",
     "text": [
      "Number of training images for pos : 1000\n",
      "Training samples for pos : ['cv000_29590.txt', 'cv001_18431.txt', 'cv002_15918.txt', 'cv003_11664.txt', 'cv004_11636.txt', 'cv005_29443.txt', 'cv006_15448.txt', 'cv007_4968.txt', 'cv008_29435.txt', 'cv009_29592.txt']\n",
      "Number of training images for neg : 1000\n",
      "Training samples for neg : ['cv000_29416.txt', 'cv001_19502.txt', 'cv002_17424.txt', 'cv003_12683.txt', 'cv004_12641.txt', 'cv005_29357.txt', 'cv006_17022.txt', 'cv007_4992.txt', 'cv008_29326.txt', 'cv009_29417.txt']\n"
     ]
    }
   ],
   "source": [
    "# Brief listing of training text files for both classes before splitting\n",
    "training_classA_dir = os.path.join(training_dir, classA_name)\n",
    "training_classA_files = os.listdir(training_classA_dir)\n",
    "print('Number of training images for', classA_name, ':', len(training_classA_files))\n",
    "print('Training samples for', classA_name, ':', training_classA_files[:10])\n",
    "\n",
    "training_classB_dir = os.path.join(training_dir, classB_name)\n",
    "training_classB_files = os.listdir(training_classB_dir)\n",
    "print('Number of training images for', classB_name, ':', len(training_classB_files))\n",
    "print('Training samples for', classB_name, ':', training_classB_files[:10])"
   ]
  },
  {
   "cell_type": "code",
   "execution_count": 22,
   "metadata": {},
   "outputs": [
    {
     "name": "stdout",
     "output_type": "stream",
     "text": [
      "Number of pos files moved: 100 \n",
      "\n",
      "Number of neg files moved: 100\n"
     ]
    }
   ],
   "source": [
    "# Move the testing files from the training directories\n",
    "testing_classA_dir = os.path.join(testing_dir, classA_name)\n",
    "testing_classB_dir = os.path.join(testing_dir, classB_name)\n",
    "file_prefix = 'cv9'\n",
    "\n",
    "i = 0\n",
    "for text_file in training_classA_files:\n",
    "    if text_file.startswith(file_prefix):\n",
    "        source_file = training_classA_dir + '/' + text_file\n",
    "        dest_file = testing_classA_dir + '/' + text_file\n",
    "#         print('Moving file from', source_file, 'to', dest_file)\n",
    "        shutil.move(source_file, dest_file)\n",
    "        i = i + 1\n",
    "print('Number of', classA_name, 'files moved:', i, '\\n')\n",
    "\n",
    "i = 0\n",
    "for text_file in training_classB_files:\n",
    "    if text_file.startswith(file_prefix):\n",
    "        source_file = training_classB_dir + '/' + text_file\n",
    "        dest_file = testing_classB_dir + '/' + text_file\n",
    "#         print('Moving file from', source_file, 'to', dest_file)\n",
    "        shutil.move(source_file, dest_file)\n",
    "        i = i + 1\n",
    "print('Number of', classB_name, 'files moved:', i)"
   ]
  },
  {
   "cell_type": "code",
   "execution_count": 23,
   "metadata": {},
   "outputs": [
    {
     "name": "stdout",
     "output_type": "stream",
     "text": [
      "Number of training files for pos : 900\n",
      "Training samples for pos : ['cv000_29590.txt', 'cv001_18431.txt', 'cv002_15918.txt', 'cv003_11664.txt', 'cv004_11636.txt', 'cv005_29443.txt', 'cv006_15448.txt', 'cv007_4968.txt', 'cv008_29435.txt', 'cv009_29592.txt']\n",
      "Number of training files for neg : 900\n",
      "Training samples for neg : ['cv000_29416.txt', 'cv001_19502.txt', 'cv002_17424.txt', 'cv003_12683.txt', 'cv004_12641.txt', 'cv005_29357.txt', 'cv006_17022.txt', 'cv007_4992.txt', 'cv008_29326.txt', 'cv009_29417.txt']\n"
     ]
    }
   ],
   "source": [
    "# Brief listing of training text files for both classes after splitting\n",
    "training_classA_files = os.listdir(training_classA_dir)\n",
    "print('Number of training files for', classA_name, ':', len(training_classA_files))\n",
    "print('Training samples for', classA_name, ':', training_classA_files[:10])\n",
    "\n",
    "training_classB_files = os.listdir(training_classB_dir)\n",
    "print('Number of training files for', classB_name, ':', len(training_classB_files))\n",
    "print('Training samples for', classB_name, ':', training_classB_files[:10])"
   ]
  },
  {
   "cell_type": "code",
   "execution_count": 24,
   "metadata": {},
   "outputs": [
    {
     "name": "stdout",
     "output_type": "stream",
     "text": [
      "Number of testing files for pos : 100\n",
      "Test samples for pos : ['cv900_10331.txt', 'cv901_11017.txt', 'cv902_12256.txt', 'cv903_17822.txt', 'cv904_24353.txt', 'cv905_29114.txt', 'cv906_11491.txt', 'cv907_3541.txt', 'cv908_16009.txt', 'cv909_9960.txt']\n",
      "Number of testing files for neg : 100\n",
      "Test samples for neg : ['cv900_10800.txt', 'cv901_11934.txt', 'cv902_13217.txt', 'cv903_18981.txt', 'cv904_25663.txt', 'cv905_28965.txt', 'cv906_12332.txt', 'cv907_3193.txt', 'cv908_17779.txt', 'cv909_9973.txt']\n"
     ]
    }
   ],
   "source": [
    "# Brief listing of testing text files for both classes after splitting\n",
    "testing_classA_files = os.listdir(testing_classA_dir)\n",
    "print('Number of testing files for', classA_name, ':', len(testing_classA_files))\n",
    "print('Test samples for', classA_name, ':', testing_classA_files[:10])\n",
    "\n",
    "testing_classB_files = os.listdir(testing_classB_dir)\n",
    "print('Number of testing files for', classB_name, ':', len(testing_classB_files))\n",
    "print('Test samples for', classB_name, ':', testing_classB_files[:10])"
   ]
  },
  {
   "cell_type": "markdown",
   "metadata": {},
   "source": [
    "## 2.c) Load Document and Build Vocabulary"
   ]
  },
  {
   "cell_type": "code",
   "execution_count": 25,
   "metadata": {},
   "outputs": [],
   "source": [
    "# load doc into memory\n",
    "def load_doc(filename):\n",
    "    # open the file as read only\n",
    "    file = open(filename, 'r')\n",
    "    # read all text\n",
    "    text = file.read()\n",
    "    # close the file\n",
    "    file.close()\n",
    "    return text"
   ]
  },
  {
   "cell_type": "code",
   "execution_count": 26,
   "metadata": {
    "colab": {
     "base_uri": "https://localhost:8080/"
    },
    "id": "A6ajSXvMR9Pb",
    "outputId": "d055509f-c17a-43d0-bffd-4406b1039775"
   },
   "outputs": [],
   "source": [
    "# turn a doc into clean tokens\n",
    "def clean_doc(doc):\n",
    "    # split into tokens by white space\n",
    "    tokens = doc.split()\n",
    "    # remove punctuation from each token\n",
    "    table = str.maketrans('', '', string.punctuation)\n",
    "    tokens = [w.translate(table) for w in tokens]\n",
    "    # remove remaining tokens that are not alphabetic\n",
    "    tokens = [word for word in tokens if word.isalpha()]\n",
    "    # filter out stop words\n",
    "    stop_words = set(stopwords.words('english'))\n",
    "    tokens = [w for w in tokens if not w in stop_words]\n",
    "    # filter out short tokens\n",
    "    tokens = [word for word in tokens if len(word) > 1]\n",
    "    return tokens"
   ]
  },
  {
   "cell_type": "code",
   "execution_count": 27,
   "metadata": {},
   "outputs": [],
   "source": [
    "# load doc and add to vocab\n",
    "def add_doc_to_vocab(filename, vocab):\n",
    "    # load doc\n",
    "    doc = load_doc(filename)\n",
    "    # clean doc\n",
    "    tokens = clean_doc(doc)\n",
    "    # update counts\n",
    "    vocab.update(tokens)"
   ]
  },
  {
   "cell_type": "code",
   "execution_count": 28,
   "metadata": {},
   "outputs": [],
   "source": [
    "# load all docs in a directory\n",
    "def build_vocab_from_docs(directory, vocab):\n",
    "    # walk through all files in the folder\n",
    "    i = 0\n",
    "    print('Processing the text files and showing the first 10...')\n",
    "    for filename in os.listdir(directory):\n",
    "        # skip files that do not have the right extension\n",
    "        if not filename.endswith(\".txt\"):\n",
    "            continue\n",
    "        # create the full path of the file to open\n",
    "        path = directory + '/' + filename\n",
    "        # add doc to vocab\n",
    "        add_doc_to_vocab(path, vocab)\n",
    "        i = i + 1\n",
    "        if i < 10: print('Loaded %s' % path)\n",
    "    print('Total number of text files loaded:', i, '\\n')"
   ]
  },
  {
   "cell_type": "code",
   "execution_count": 29,
   "metadata": {},
   "outputs": [
    {
     "name": "stdout",
     "output_type": "stream",
     "text": [
      "Processing the text files and showing the first 10...\n",
      "Loaded staging/txt_sentoken/pos/cv000_29590.txt\n",
      "Loaded staging/txt_sentoken/pos/cv001_18431.txt\n",
      "Loaded staging/txt_sentoken/pos/cv002_15918.txt\n",
      "Loaded staging/txt_sentoken/pos/cv003_11664.txt\n",
      "Loaded staging/txt_sentoken/pos/cv004_11636.txt\n",
      "Loaded staging/txt_sentoken/pos/cv005_29443.txt\n",
      "Loaded staging/txt_sentoken/pos/cv006_15448.txt\n",
      "Loaded staging/txt_sentoken/pos/cv007_4968.txt\n",
      "Loaded staging/txt_sentoken/pos/cv008_29435.txt\n",
      "Total number of text files loaded: 900 \n",
      "\n",
      "Processing the text files and showing the first 10...\n",
      "Loaded staging/txt_sentoken/neg/cv000_29416.txt\n",
      "Loaded staging/txt_sentoken/neg/cv001_19502.txt\n",
      "Loaded staging/txt_sentoken/neg/cv002_17424.txt\n",
      "Loaded staging/txt_sentoken/neg/cv003_12683.txt\n",
      "Loaded staging/txt_sentoken/neg/cv004_12641.txt\n",
      "Loaded staging/txt_sentoken/neg/cv005_29357.txt\n",
      "Loaded staging/txt_sentoken/neg/cv006_17022.txt\n",
      "Loaded staging/txt_sentoken/neg/cv007_4992.txt\n",
      "Loaded staging/txt_sentoken/neg/cv008_29326.txt\n",
      "Total number of text files loaded: 900 \n",
      "\n",
      "The total number of words in the vocabulary: 44276\n",
      "The top 50 words in the vocabulary:\n",
      " [('film', 7983), ('one', 4946), ('movie', 4826), ('like', 3201), ('even', 2262), ('good', 2080), ('time', 2041), ('story', 1907), ('films', 1873), ('would', 1844), ('much', 1824), ('also', 1757), ('characters', 1735), ('get', 1724), ('character', 1703), ('two', 1643), ('first', 1588), ('see', 1557), ('way', 1515), ('well', 1511), ('make', 1418), ('really', 1407), ('little', 1351), ('life', 1334), ('plot', 1288), ('people', 1269), ('could', 1248), ('bad', 1248), ('scene', 1241), ('movies', 1238), ('never', 1201), ('best', 1179), ('new', 1140), ('scenes', 1135), ('man', 1131), ('many', 1130), ('doesnt', 1118), ('know', 1092), ('dont', 1086), ('hes', 1024), ('great', 1014), ('another', 992), ('action', 985), ('love', 977), ('us', 967), ('go', 952), ('director', 948), ('end', 946), ('something', 945), ('still', 936)]\n"
     ]
    }
   ],
   "source": [
    "# define vocab\n",
    "vocab = Counter()\n",
    "# add all docs to vocab\n",
    "build_vocab_from_docs(training_classA_dir, vocab)\n",
    "build_vocab_from_docs(training_classB_dir, vocab)\n",
    "# print the size of the vocab\n",
    "print('The total number of words in the vocabulary:', len(vocab))\n",
    "# print the top words in the vocab\n",
    "top_words = 50\n",
    "print('The top', top_words, 'words in the vocabulary:\\n', vocab.most_common(top_words))"
   ]
  },
  {
   "cell_type": "code",
   "execution_count": 30,
   "metadata": {},
   "outputs": [
    {
     "name": "stdout",
     "output_type": "stream",
     "text": [
      "The number of words with the minimum appearance: 25767\n"
     ]
    }
   ],
   "source": [
    "# keep tokens with a min occurrence\n",
    "min_occurane = 2\n",
    "tokens = [k for k,c in vocab.items() if c >= min_occurane]\n",
    "print('The number of words with the minimum appearance:', len(tokens))"
   ]
  },
  {
   "cell_type": "code",
   "execution_count": 31,
   "metadata": {},
   "outputs": [],
   "source": [
    "# save list to file\n",
    "def save_list(lines, filename):\n",
    "    # convert lines to a single blob of text\n",
    "    data = '\\n'.join(lines)\n",
    "    # open file\n",
    "    file = open(filename, 'w')\n",
    "    # write text\n",
    "    file.write(data)\n",
    "    # close file\n",
    "    file.close()\n",
    "\n",
    "# save tokens to a vocabulary file\n",
    "save_list(tokens, 'vocabulary.txt')"
   ]
  },
  {
   "cell_type": "markdown",
   "metadata": {},
   "source": [
    "## 2.d) Prepare Word Embedding using Word2Vec Algorithm"
   ]
  },
  {
   "cell_type": "code",
   "execution_count": 32,
   "metadata": {},
   "outputs": [
    {
     "name": "stdout",
     "output_type": "stream",
     "text": [
      "Number of tokens in the vocabulary: 25767\n"
     ]
    }
   ],
   "source": [
    "# load the vocabulary\n",
    "vocab_filename = 'vocabulary.txt'\n",
    "vocab = load_doc(vocab_filename)\n",
    "vocab = vocab.split()\n",
    "vocab = set(vocab)\n",
    "print('Number of tokens in the vocabulary:', len(vocab))"
   ]
  },
  {
   "cell_type": "code",
   "execution_count": 33,
   "metadata": {},
   "outputs": [],
   "source": [
    "# turn a doc into clean tokens\n",
    "def doc_to_clean_lines(doc, vocab):\n",
    "    clean_lines = list()\n",
    "    lines = doc.splitlines()\n",
    "    for line in lines:\n",
    "        # split into tokens by white space\n",
    "        tokens = line.split()\n",
    "        # remove punctuation from each token\n",
    "        table = str.maketrans('', '', string.punctuation)\n",
    "        tokens = [w.translate(table) for w in tokens]\n",
    "        # filter out tokens not in vocab\n",
    "        tokens = [w for w in tokens if w in vocab]\n",
    "        clean_lines.append(tokens)\n",
    "    return clean_lines"
   ]
  },
  {
   "cell_type": "code",
   "execution_count": 34,
   "metadata": {},
   "outputs": [],
   "source": [
    "# load all docs in a directory\n",
    "def load_lines_from_docs(directory, vocab):\n",
    "    lines = list()\n",
    "    # walk through all files in the folder\n",
    "    for filename in os.listdir(directory):\n",
    "        # create the full path of the file to open\n",
    "        path = directory + '/' + filename\n",
    "        # load and clean the doc\n",
    "        doc = load_doc(path)\n",
    "        doc_lines = doc_to_clean_lines(doc, vocab)\n",
    "        # add lines to list\n",
    "        lines += doc_lines\n",
    "    return lines"
   ]
  },
  {
   "cell_type": "code",
   "execution_count": 35,
   "metadata": {},
   "outputs": [
    {
     "name": "stdout",
     "output_type": "stream",
     "text": [
      "The number of positive sentences processed: 29525\n",
      "The number of negative sentences processed: 28584\n",
      "Total training sentences: 58109\n"
     ]
    }
   ],
   "source": [
    "# load training data\n",
    "positive_train_cases = load_lines_from_docs(training_classA_dir, vocab)\n",
    "print('The number of positive sentences processed:', len(positive_train_cases))\n",
    "negative_train_cases = load_lines_from_docs(training_classB_dir, vocab)\n",
    "print('The number of negative sentences processed:', len(negative_train_cases))\n",
    "train_sentences = negative_train_cases + positive_train_cases\n",
    "print('Total training sentences: %d' % len(train_sentences))"
   ]
  },
  {
   "cell_type": "code",
   "execution_count": 36,
   "metadata": {},
   "outputs": [
    {
     "name": "stdout",
     "output_type": "stream",
     "text": [
      "Vocabulary size: 25767\n"
     ]
    }
   ],
   "source": [
    "# train word2vec model\n",
    "embed_model = gensim.models.Word2Vec(train_sentences, size=default_vector_space, window=default_neighbors, workers=n_jobs, min_count=1)\n",
    "# summarize vocabulary size in model\n",
    "words = list(embed_model.wv.vocab)\n",
    "print('Vocabulary size: %d' % len(words))"
   ]
  },
  {
   "cell_type": "code",
   "execution_count": 37,
   "metadata": {},
   "outputs": [],
   "source": [
    "# save model in ASCII (word2vec) format\n",
    "filename = 'embedding_word2vec.txt'\n",
    "embed_model.wv.save_word2vec_format(filename, binary=False)"
   ]
  },
  {
   "cell_type": "markdown",
   "metadata": {},
   "source": [
    "## 2.e) Create Tokenizer and Encode the Input Text"
   ]
  },
  {
   "cell_type": "code",
   "execution_count": 38,
   "metadata": {},
   "outputs": [],
   "source": [
    "# load doc, clean and return line of tokens\n",
    "def doc_to_line(filename, vocab):\n",
    "    # load the doc\n",
    "    doc = load_doc(filename)\n",
    "    # clean doc\n",
    "    tokens = clean_doc(doc)\n",
    "    # filter by vocab\n",
    "    tokens = [w for w in tokens if w in vocab]\n",
    "    return ' '.join(tokens)"
   ]
  },
  {
   "cell_type": "code",
   "execution_count": 39,
   "metadata": {},
   "outputs": [],
   "source": [
    "# load all docs in a directory\n",
    "def process_docs_to_lines(directory, vocab):\n",
    "    lines = list()\n",
    "    # walk through all files in the folder\n",
    "    for filename in os.listdir(directory):\n",
    "        # create the full path of the file to open\n",
    "        path = directory + '/' + filename\n",
    "        # load and clean the doc\n",
    "        line = doc_to_line(path, vocab)\n",
    "        # add to list\n",
    "        lines.append(line)\n",
    "    return lines"
   ]
  },
  {
   "cell_type": "code",
   "execution_count": 40,
   "metadata": {},
   "outputs": [],
   "source": [
    "# prepare encoding of docs\n",
    "def encode_train_data(train_docs, maxlen):\n",
    "    # create the tokenizer\n",
    "    tokenizer = Tokenizer()\n",
    "    # fit the tokenizer on the documents\n",
    "    tokenizer.fit_on_texts(train_docs)\n",
    "    # encode training data set\n",
    "    encoded_docs = tokenizer.texts_to_sequences(train_docs)\n",
    "    # pad sequences\n",
    "    train_encoded = pad_sequences(encoded_docs, maxlen=maxlen, padding='post')\n",
    "    return train_encoded, tokenizer"
   ]
  },
  {
   "cell_type": "code",
   "execution_count": 41,
   "metadata": {},
   "outputs": [
    {
     "name": "stdout",
     "output_type": "stream",
     "text": [
      "The number of positive reviews processed: 900\n",
      "The number of negative reviews processed: 900\n"
     ]
    }
   ],
   "source": [
    "# Load all training cases\n",
    "positive_train_cases = process_docs_to_lines(training_classA_dir, vocab)\n",
    "print('The number of positive reviews processed:', len(positive_train_cases))\n",
    "negative_train_cases = process_docs_to_lines(training_classB_dir, vocab)\n",
    "print('The number of negative reviews processed:', len(negative_train_cases))\n",
    "training_docs =  negative_train_cases + positive_train_cases"
   ]
  },
  {
   "cell_type": "code",
   "execution_count": 42,
   "metadata": {},
   "outputs": [
    {
     "name": "stdout",
     "output_type": "stream",
     "text": [
      "The maximum document length: 1317\n"
     ]
    }
   ],
   "source": [
    "# Get maximum doc length for padding sequences\n",
    "max_length = max([len(s.split()) for s in training_docs])\n",
    "print('The maximum document length:', max_length)"
   ]
  },
  {
   "cell_type": "code",
   "execution_count": 43,
   "metadata": {},
   "outputs": [
    {
     "name": "stdout",
     "output_type": "stream",
     "text": [
      "The shape of the encoded training dataset: (1800, 1317)\n",
      "The shape of the encoded training classes: (1800,)\n"
     ]
    }
   ],
   "source": [
    "# encode training and validation datasets\n",
    "X_train, vocab_tokenizer = encode_train_data(training_docs, max_length)\n",
    "print('The shape of the encoded training dataset:', X_train.shape)\n",
    "y_train = np.array([0 for _ in range(len(negative_train_cases))] + [1 for _ in range(len(positive_train_cases))])\n",
    "print('The shape of the encoded training classes:', y_train.shape)"
   ]
  },
  {
   "cell_type": "code",
   "execution_count": 44,
   "metadata": {
    "id": "JdeBWbYeR9Pi"
   },
   "outputs": [],
   "source": [
    "if notifyStatus: status_notify('(TensorFlow Text Classification) Task 2 - Load and Prepare Text Data completed on ' + datetime.now().strftime('%A %B %d, %Y %I:%M:%S %p'))"
   ]
  },
  {
   "cell_type": "markdown",
   "metadata": {
    "id": "jGVOq6P6R9Pj"
   },
   "source": [
    "# Task 3 - Define and Train Models"
   ]
  },
  {
   "cell_type": "code",
   "execution_count": 45,
   "metadata": {
    "id": "W52KEpCWR9Pk"
   },
   "outputs": [],
   "source": [
    "if notifyStatus: status_notify('(TensorFlow Text Classification) Task 3 - Define and Train Models has begun on ' + datetime.now().strftime('%A %B %d, %Y %I:%M:%S %p'))"
   ]
  },
  {
   "cell_type": "code",
   "execution_count": 46,
   "metadata": {},
   "outputs": [],
   "source": [
    "# Define the default numbers of input/output for modeling\n",
    "num_outputs = 1"
   ]
  },
  {
   "cell_type": "code",
   "execution_count": 47,
   "metadata": {},
   "outputs": [],
   "source": [
    "# load embedding as a dict\n",
    "def load_embedding(filename):\n",
    "    # load embedding into memory, skip first line\n",
    "    file = open(filename,'r')\n",
    "    lines = file.readlines()[1:]\n",
    "    file.close()\n",
    "    # create a map of words to vectors\n",
    "    embedding = dict()\n",
    "    for line in lines:\n",
    "        parts = line.split()\n",
    "        # key is string word, value is numpy array for vector\n",
    "        embedding[parts[0]] = np.asarray(parts[1:], dtype='float32')\n",
    "    return embedding"
   ]
  },
  {
   "cell_type": "code",
   "execution_count": 48,
   "metadata": {},
   "outputs": [],
   "source": [
    "# create a weight matrix for the Embedding layer from a loaded embedding\n",
    "def get_weight_matrix(embedding, vocab):\n",
    "    # total vocabulary size plus 0 for unknown words\n",
    "    vocab_size = len(vocab) + 1\n",
    "    # define weight matrix dimensions with all 0\n",
    "    weight_matrix = np.zeros((vocab_size, default_vector_space))\n",
    "    # step vocab, store vectors using the Tokenizer's integer mapping\n",
    "    for word, i in vocab.items():\n",
    "        weight_matrix[i] = embedding.get(word)\n",
    "    return weight_matrix"
   ]
  },
  {
   "cell_type": "code",
   "execution_count": 49,
   "metadata": {},
   "outputs": [
    {
     "name": "stdout",
     "output_type": "stream",
     "text": [
      "The maximum vocabulary size is: 25768\n"
     ]
    }
   ],
   "source": [
    "# load embedding from file\n",
    "raw_embedding = load_embedding('embedding_word2vec.txt')\n",
    "\n",
    "# get vectors in the right order\n",
    "embedding_vectors = get_weight_matrix(raw_embedding, vocab_tokenizer.word_index)\n",
    "\n",
    "# define vocabulary size (largest integer value)\n",
    "vocab_size = len(vocab_tokenizer.word_index) + 1\n",
    "print('The maximum vocabulary size is:', vocab_size)\n",
    "\n",
    "# create the embedding layer\n",
    "embedding_layer = keras.layers.Embedding(vocab_size, default_vector_space, weights=[embedding_vectors], input_length=max_length, trainable=False)"
   ]
  },
  {
   "cell_type": "code",
   "execution_count": 50,
   "metadata": {},
   "outputs": [],
   "source": [
    "# Define the baseline model for benchmarking\n",
    "def create_nn_model(n_inputs=max_length, n_outputs=num_outputs, embed_layer=embedding_layer, conv1_filters=default_filters, conv1_kernels=default_kernel_size, \n",
    "                    n_pools=default_pool_size, opt_param=default_optimizer, init_param=default_kernel_init):\n",
    "    nn_model = keras.Sequential([\n",
    "        embed_layer,\n",
    "        layers.Conv1D(filters=conv1_filters, kernel_size=conv1_kernels, activation='relu'),\n",
    "        layers.MaxPooling1D(pool_size=n_pools),\n",
    "        layers.Flatten(),\n",
    "        layers.Dense(n_outputs, activation='sigmoid', kernel_initializer=init_param)\n",
    "    ])\n",
    "    nn_model.compile(loss=default_loss, optimizer=opt_param, metrics=default_metrics)\n",
    "    return nn_model"
   ]
  },
  {
   "cell_type": "code",
   "execution_count": 51,
   "metadata": {},
   "outputs": [
    {
     "name": "stdout",
     "output_type": "stream",
     "text": [
      "Epoch 1/10\n",
      "90/90 [==============================] - 9s 105ms/step - loss: 0.8665 - accuracy: 0.5090\n",
      "Epoch 2/10\n",
      "90/90 [==============================] - 10s 106ms/step - loss: 0.6149 - accuracy: 0.6604\n",
      "Epoch 3/10\n",
      "90/90 [==============================] - 9s 105ms/step - loss: 0.5299 - accuracy: 0.7312\n",
      "Epoch 4/10\n",
      "90/90 [==============================] - 9s 104ms/step - loss: 0.4212 - accuracy: 0.8014\n",
      "Epoch 5/10\n",
      "90/90 [==============================] - 9s 104ms/step - loss: 0.3036 - accuracy: 0.8958\n",
      "Epoch 6/10\n",
      "90/90 [==============================] - 10s 106ms/step - loss: 0.2057 - accuracy: 0.9389\n",
      "Epoch 7/10\n",
      "90/90 [==============================] - 10s 107ms/step - loss: 0.1297 - accuracy: 0.9750\n",
      "Epoch 8/10\n",
      "90/90 [==============================] - 10s 106ms/step - loss: 0.0871 - accuracy: 0.9937\n",
      "Epoch 9/10\n",
      "90/90 [==============================] - 10s 107ms/step - loss: 0.0533 - accuracy: 0.9979\n",
      "Epoch 10/10\n",
      "90/90 [==============================] - 10s 110ms/step - loss: 0.0331 - accuracy: 1.0000\n",
      "Accuracy measurement from iteration 1 >>> 53.06% \n",
      "\n",
      "Epoch 1/10\n",
      "90/90 [==============================] - 9s 104ms/step - loss: 0.8424 - accuracy: 0.5153\n",
      "Epoch 2/10\n",
      "90/90 [==============================] - 9s 103ms/step - loss: 0.6876 - accuracy: 0.5590\n",
      "Epoch 3/10\n",
      "90/90 [==============================] - 9s 104ms/step - loss: 0.6612 - accuracy: 0.6181\n",
      "Epoch 4/10\n",
      "90/90 [==============================] - 9s 105ms/step - loss: 0.5926 - accuracy: 0.6812\n",
      "Epoch 5/10\n",
      "90/90 [==============================] - 10s 106ms/step - loss: 0.5109 - accuracy: 0.7389\n",
      "Epoch 6/10\n",
      "90/90 [==============================] - 9s 105ms/step - loss: 0.4230 - accuracy: 0.8125\n",
      "Epoch 7/10\n",
      "90/90 [==============================] - 9s 106ms/step - loss: 0.3535 - accuracy: 0.8472\n",
      "Epoch 8/10\n",
      "90/90 [==============================] - 10s 106ms/step - loss: 0.3032 - accuracy: 0.8618\n",
      "Epoch 9/10\n",
      "90/90 [==============================] - 10s 106ms/step - loss: 0.2594 - accuracy: 0.9056\n",
      "Epoch 10/10\n",
      "90/90 [==============================] - 9s 105ms/step - loss: 0.2188 - accuracy: 0.9278\n",
      "Accuracy measurement from iteration 2 >>> 51.39% \n",
      "\n",
      "Epoch 1/10\n",
      "90/90 [==============================] - 10s 106ms/step - loss: 0.8964 - accuracy: 0.5188\n",
      "Epoch 2/10\n",
      "90/90 [==============================] - 9s 104ms/step - loss: 0.6838 - accuracy: 0.5576\n",
      "Epoch 3/10\n",
      "90/90 [==============================] - 9s 104ms/step - loss: 0.6413 - accuracy: 0.6208\n",
      "Epoch 4/10\n",
      "90/90 [==============================] - 9s 104ms/step - loss: 0.5706 - accuracy: 0.6979\n",
      "Epoch 5/10\n",
      "90/90 [==============================] - 9s 104ms/step - loss: 0.4944 - accuracy: 0.7611\n",
      "Epoch 6/10\n",
      "90/90 [==============================] - 10s 106ms/step - loss: 0.4213 - accuracy: 0.8035\n",
      "Epoch 7/10\n",
      "90/90 [==============================] - 9s 104ms/step - loss: 0.3680 - accuracy: 0.8361\n",
      "Epoch 8/10\n",
      "90/90 [==============================] - 9s 103ms/step - loss: 0.2938 - accuracy: 0.8833\n",
      "Epoch 9/10\n",
      "90/90 [==============================] - 9s 103ms/step - loss: 0.2341 - accuracy: 0.9229\n",
      "Epoch 10/10\n",
      "90/90 [==============================] - 10s 106ms/step - loss: 0.1872 - accuracy: 0.9438\n",
      "Accuracy measurement from iteration 3 >>> 51.11% \n",
      "\n",
      "Epoch 1/10\n",
      "90/90 [==============================] - 9s 103ms/step - loss: 0.8192 - accuracy: 0.5479\n",
      "Epoch 2/10\n",
      "90/90 [==============================] - 9s 103ms/step - loss: 0.6595 - accuracy: 0.6174\n",
      "Epoch 3/10\n",
      "90/90 [==============================] - 9s 104ms/step - loss: 0.5907 - accuracy: 0.6812\n",
      "Epoch 4/10\n",
      "90/90 [==============================] - 9s 104ms/step - loss: 0.4926 - accuracy: 0.7493\n",
      "Epoch 5/10\n",
      "90/90 [==============================] - 9s 104ms/step - loss: 0.3865 - accuracy: 0.8431\n",
      "Epoch 6/10\n",
      "90/90 [==============================] - 9s 103ms/step - loss: 0.3142 - accuracy: 0.8771\n",
      "Epoch 7/10\n",
      "90/90 [==============================] - 9s 105ms/step - loss: 0.2335 - accuracy: 0.9250\n",
      "Epoch 8/10\n",
      "90/90 [==============================] - 9s 105ms/step - loss: 0.1765 - accuracy: 0.9535\n",
      "Epoch 9/10\n",
      "90/90 [==============================] - 10s 106ms/step - loss: 0.1364 - accuracy: 0.9708\n",
      "Epoch 10/10\n",
      "90/90 [==============================] - 9s 105ms/step - loss: 0.0984 - accuracy: 0.9826\n",
      "Accuracy measurement from iteration 4 >>> 54.44% \n",
      "\n",
      "Epoch 1/10\n",
      "90/90 [==============================] - 9s 103ms/step - loss: 0.8476 - accuracy: 0.5097\n",
      "Epoch 2/10\n",
      "90/90 [==============================] - 9s 103ms/step - loss: 0.6694 - accuracy: 0.5792\n",
      "Epoch 3/10\n",
      "90/90 [==============================] - 9s 104ms/step - loss: 0.5880 - accuracy: 0.6764\n",
      "Epoch 4/10\n",
      "90/90 [==============================] - 10s 106ms/step - loss: 0.4729 - accuracy: 0.7854\n",
      "Epoch 5/10\n",
      "90/90 [==============================] - 9s 104ms/step - loss: 0.3965 - accuracy: 0.8222\n",
      "Epoch 6/10\n",
      "90/90 [==============================] - 9s 105ms/step - loss: 0.3171 - accuracy: 0.8708\n",
      "Epoch 7/10\n",
      "90/90 [==============================] - 9s 104ms/step - loss: 0.2633 - accuracy: 0.9076\n",
      "Epoch 8/10\n",
      "90/90 [==============================] - 10s 109ms/step - loss: 0.2103 - accuracy: 0.9292\n",
      "Epoch 9/10\n",
      "90/90 [==============================] - 9s 104ms/step - loss: 0.1590 - accuracy: 0.9528\n",
      "Epoch 10/10\n",
      "90/90 [==============================] - 10s 106ms/step - loss: 0.1128 - accuracy: 0.9771\n",
      "Accuracy measurement from iteration 5 >>> 53.06% \n",
      "\n",
      "Average model accuracy from all validation iterations: 52.61% (1.22%)\n",
      "Total time for model fitting and cross validating: 0:08:08.444360\n"
     ]
    }
   ],
   "source": [
    "# Initialize the default model and get a baseline result\n",
    "startTimeModule = datetime.now()\n",
    "results = list()\n",
    "iteration = 0\n",
    "cv = RepeatedKFold(n_splits=n_folds, n_repeats=n_iterations, random_state=seedNum)\n",
    "for train_ix, val_ix in cv.split(X_train):\n",
    "    feature_train, feature_validation = X_train[train_ix], X_train[val_ix]\n",
    "    target_train, target_validation = y_train[train_ix], y_train[val_ix]\n",
    "    reset_random(seedNum)\n",
    "    baseline_model = create_nn_model()\n",
    "    baseline_model.fit(feature_train, target_train, epochs=default_epochs, batch_size=default_batch_size, verbose=1)\n",
    "    model_metric = baseline_model.evaluate(feature_validation, target_validation, verbose=0)[1]\n",
    "    iteration = iteration + 1\n",
    "    print('Accuracy measurement from iteration %d >>> %.2f%%' % (iteration, model_metric*100),'\\n')\n",
    "    results.append(model_metric)\n",
    "validation_score = np.mean(results)\n",
    "validation_variance = np.std(results)\n",
    "print('Average model accuracy from all validation iterations: %.2f%% (%.2f%%)' % (validation_score*100, validation_variance*100))\n",
    "print('Total time for model fitting and cross validating:', (datetime.now() - startTimeModule))"
   ]
  },
  {
   "cell_type": "code",
   "execution_count": 52,
   "metadata": {
    "collapsed": false,
    "id": "5vzQkIfyR9Ps",
    "jupyter": {
     "outputs_hidden": false
    },
    "pycharm": {
     "name": "#%%\n"
    }
   },
   "outputs": [],
   "source": [
    "if notifyStatus: status_notify('(TensorFlow Text Classification) Task 3 - Define and Train Models completed on ' + datetime.now().strftime('%A %B %d, %Y %I:%M:%S %p'))"
   ]
  },
  {
   "cell_type": "markdown",
   "metadata": {
    "id": "Tmuo6X06R9Pu"
   },
   "source": [
    "# Task 4 - Evaluate and Optimize Models"
   ]
  },
  {
   "cell_type": "code",
   "execution_count": 53,
   "metadata": {
    "collapsed": false,
    "id": "h-Xp746uR9Pu",
    "jupyter": {
     "outputs_hidden": false
    },
    "pycharm": {
     "name": "#%%\n"
    }
   },
   "outputs": [],
   "source": [
    "if notifyStatus: status_notify('(TensorFlow Text Classification) Task 4 - Evaluate and Optimize Models has begun on ' + datetime.now().strftime('%A %B %d, %Y %I:%M:%S %p'))"
   ]
  },
  {
   "cell_type": "code",
   "execution_count": 54,
   "metadata": {},
   "outputs": [],
   "source": [
    "# Not applicable for this iteration of modeling"
   ]
  },
  {
   "cell_type": "code",
   "execution_count": 55,
   "metadata": {
    "id": "6n7j3PwoR9P0"
   },
   "outputs": [],
   "source": [
    "if notifyStatus: status_notify('(TensorFlow Text Classification) Task 4 - Evaluate and Optimize Models completed on ' + datetime.now().strftime('%A %B %d, %Y %I:%M:%S %p'))"
   ]
  },
  {
   "cell_type": "markdown",
   "metadata": {
    "id": "oRcXHaGhR9P1"
   },
   "source": [
    "# Task 5 - Finalize Model and Make Predictions"
   ]
  },
  {
   "cell_type": "code",
   "execution_count": 56,
   "metadata": {
    "id": "p3tj_9tBR9P2"
   },
   "outputs": [],
   "source": [
    "if notifyStatus: status_notify('(TensorFlow Text Classification) Task 5 - Finalize Model and Make Predictions has begun on ' + datetime.now().strftime('%A %B %d, %Y %I:%M:%S %p'))"
   ]
  },
  {
   "cell_type": "code",
   "execution_count": 57,
   "metadata": {},
   "outputs": [],
   "source": [
    "# prepare encoding of docs\n",
    "def encode_test_data(test_docs, maxlen, tokenizer):\n",
    "    # encode training data set\n",
    "    encoded_docs = tokenizer.texts_to_sequences(test_docs)\n",
    "    # pad sequences\n",
    "    test_encoded = pad_sequences(encoded_docs, maxlen=maxlen, padding='post')\n",
    "    return test_encoded"
   ]
  },
  {
   "cell_type": "code",
   "execution_count": 58,
   "metadata": {},
   "outputs": [
    {
     "name": "stdout",
     "output_type": "stream",
     "text": [
      "The number of positive reviews processed: 100\n",
      "The number of negative reviews processed: 100\n"
     ]
    }
   ],
   "source": [
    "# load all validation cases\n",
    "positive_test_cases = process_docs_to_lines(testing_classA_dir, vocab)\n",
    "print('The number of positive reviews processed:', len(positive_test_cases))\n",
    "negative_test_cases = process_docs_to_lines(testing_classB_dir, vocab)\n",
    "print('The number of negative reviews processed:', len(negative_test_cases))\n",
    "testing_docs = negative_test_cases + positive_test_cases"
   ]
  },
  {
   "cell_type": "code",
   "execution_count": 59,
   "metadata": {},
   "outputs": [
    {
     "name": "stdout",
     "output_type": "stream",
     "text": [
      "The shape of the encoded test dataset: (200, 1317)\n",
      "The shape of the encoded test classes: (200,)\n"
     ]
    }
   ],
   "source": [
    "# encode training and validation datasets\n",
    "X_test = encode_test_data(testing_docs, max_length, vocab_tokenizer)\n",
    "print('The shape of the encoded test dataset:', X_test.shape)\n",
    "y_test = np.array([0 for _ in range(len(negative_test_cases))] + [1 for _ in range(len(positive_test_cases))])\n",
    "print('The shape of the encoded test classes:', y_test.shape)"
   ]
  },
  {
   "cell_type": "code",
   "execution_count": 60,
   "metadata": {},
   "outputs": [
    {
     "name": "stdout",
     "output_type": "stream",
     "text": [
      "Epoch 1/10\n",
      "113/113 [==============================] - 12s 106ms/step - loss: 0.8457 - accuracy: 0.5361\n",
      "Epoch 2/10\n",
      "113/113 [==============================] - 12s 104ms/step - loss: 0.6687 - accuracy: 0.5928\n",
      "Epoch 3/10\n",
      "113/113 [==============================] - 12s 105ms/step - loss: 0.6015 - accuracy: 0.6717\n",
      "Epoch 4/10\n",
      "113/113 [==============================] - 12s 106ms/step - loss: 0.5112 - accuracy: 0.7467\n",
      "Epoch 5/10\n",
      "113/113 [==============================] - 12s 108ms/step - loss: 0.4084 - accuracy: 0.8183\n",
      "Epoch 6/10\n",
      "113/113 [==============================] - 12s 107ms/step - loss: 0.3221 - accuracy: 0.8706\n",
      "Epoch 7/10\n",
      "113/113 [==============================] - 12s 107ms/step - loss: 0.2427 - accuracy: 0.9028\n",
      "Epoch 8/10\n",
      "113/113 [==============================] - 12s 106ms/step - loss: 0.1858 - accuracy: 0.9394\n",
      "Epoch 9/10\n",
      "113/113 [==============================] - 12s 105ms/step - loss: 0.1389 - accuracy: 0.9667\n",
      "Epoch 10/10\n",
      "113/113 [==============================] - 12s 107ms/step - loss: 0.1032 - accuracy: 0.9783\n"
     ]
    },
    {
     "data": {
      "text/plain": [
       "<tensorflow.python.keras.callbacks.History at 0x7f2d1dd2ba90>"
      ]
     },
     "execution_count": 60,
     "metadata": {},
     "output_type": "execute_result"
    }
   ],
   "source": [
    "# Create the final model for evaluating the test dataset\n",
    "reset_random(seedNum)\n",
    "final_model = create_nn_model()\n",
    "final_model.fit(X_train, y_train, epochs=default_epochs, batch_size=default_batch_size, verbose=1)"
   ]
  },
  {
   "cell_type": "code",
   "execution_count": 61,
   "metadata": {},
   "outputs": [
    {
     "name": "stdout",
     "output_type": "stream",
     "text": [
      "Model: \"sequential_5\"\n",
      "_________________________________________________________________\n",
      "Layer (type)                 Output Shape              Param #   \n",
      "=================================================================\n",
      "embedding (Embedding)        (None, 1317, 100)         2576800   \n",
      "_________________________________________________________________\n",
      "conv1d_5 (Conv1D)            (None, 1313, 128)         64128     \n",
      "_________________________________________________________________\n",
      "max_pooling1d_5 (MaxPooling1 (None, 656, 128)          0         \n",
      "_________________________________________________________________\n",
      "flatten_5 (Flatten)          (None, 83968)             0         \n",
      "_________________________________________________________________\n",
      "dense_5 (Dense)              (None, 1)                 83969     \n",
      "=================================================================\n",
      "Total params: 2,724,897\n",
      "Trainable params: 148,097\n",
      "Non-trainable params: 2,576,800\n",
      "_________________________________________________________________\n"
     ]
    }
   ],
   "source": [
    "# Summarize the final model\n",
    "final_model.summary()"
   ]
  },
  {
   "cell_type": "code",
   "execution_count": 62,
   "metadata": {},
   "outputs": [
    {
     "name": "stdout",
     "output_type": "stream",
     "text": [
      "Accuracy Score: 0.49\n",
      "[[50 50]\n",
      " [52 48]]\n",
      "              precision    recall  f1-score   support\n",
      "\n",
      "           0       0.49      0.50      0.50       100\n",
      "           1       0.49      0.48      0.48       100\n",
      "\n",
      "    accuracy                           0.49       200\n",
      "   macro avg       0.49      0.49      0.49       200\n",
      "weighted avg       0.49      0.49      0.49       200\n",
      "\n"
     ]
    }
   ],
   "source": [
    "# test_predictions = final_model.predict(X_test, batch_size=default_batch, verbose=1)\n",
    "test_predictions = (final_model.predict(X_test) > 0.5).astype(\"int32\").ravel()\n",
    "print('Accuracy Score:', accuracy_score(y_test, test_predictions))\n",
    "print(confusion_matrix(y_test, test_predictions))\n",
    "print(classification_report(y_test, test_predictions))"
   ]
  },
  {
   "cell_type": "code",
   "execution_count": 63,
   "metadata": {
    "id": "S47yeSrOR9P-"
   },
   "outputs": [],
   "source": [
    "if notifyStatus: status_notify('(TensorFlow Text Classification) Task 5 - Finalize Model and Make Predictions completed on ' + datetime.now().strftime('%A %B %d, %Y %I:%M:%S %p'))"
   ]
  },
  {
   "cell_type": "code",
   "execution_count": 64,
   "metadata": {
    "colab": {
     "base_uri": "https://localhost:8080/"
    },
    "id": "n_kTqSp4R9QA",
    "outputId": "38f72f65-eea4-443f-cc58-62b4d17cb7b0"
   },
   "outputs": [
    {
     "name": "stdout",
     "output_type": "stream",
     "text": [
      "Total time for the script: 0:11:48.403900\n"
     ]
    }
   ],
   "source": [
    "print ('Total time for the script:',(datetime.now() - startTimeScript))"
   ]
  }
 ],
 "metadata": {
  "accelerator": "GPU",
  "colab": {
   "collapsed_sections": [],
   "name": "py_tensorflow_binaryclass_image_classification_example.ipynb",
   "provenance": [],
   "toc_visible": true
  },
  "kernelspec": {
   "display_name": "Python 3",
   "language": "python",
   "name": "python3"
  },
  "language_info": {
   "codemirror_mode": {
    "name": "ipython",
    "version": 3
   },
   "file_extension": ".py",
   "mimetype": "text/x-python",
   "name": "python",
   "nbconvert_exporter": "python",
   "pygments_lexer": "ipython3",
   "version": "3.8.6"
  }
 },
 "nbformat": 4,
 "nbformat_minor": 4
}
