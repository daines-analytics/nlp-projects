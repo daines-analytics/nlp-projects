{
  "nbformat": 4,
  "nbformat_minor": 0,
  "metadata": {
    "accelerator": "GPU",
    "colab": {
      "name": "py_nlp_binaryclass_large_movie_review_acl2011_take2.ipynb",
      "provenance": [],
      "collapsed_sections": [],
      "toc_visible": true
    },
    "kernelspec": {
      "display_name": "Python 3",
      "language": "python",
      "name": "python3"
    },
    "language_info": {
      "codemirror_mode": {
        "name": "ipython",
        "version": 3
      },
      "file_extension": ".py",
      "mimetype": "text/x-python",
      "name": "python",
      "nbconvert_exporter": "python",
      "pygments_lexer": "ipython3",
      "version": "3.8.6"
    }
  },
  "cells": [
    {
      "cell_type": "markdown",
      "metadata": {
        "id": "BthRezPlR9Ow"
      },
      "source": [
        "# Text Classification Model for Large Movie Review Using TensorFlow Take 2\n",
        "### David Lowe\n",
        "### March 12, 2021\n",
        "\n",
        "Template Credit: Adapted from a template made available by Dr. Jason Brownlee of Machine Learning Mastery. [https://machinelearningmastery.com/]\n",
        "\n",
        "SUMMARY: This project aims to construct a text classification model using a neural network and document the end-to-end steps using a template. The Large Movie Review dataset is a binary classification situation where we attempt to predict one of the two possible outcomes.\n",
        "\n",
        "INTRODUCTION: The Large Movie Review Dataset is a collection of movie reviews used in the research paper \"Learning Word Vectors for Sentiment Analysis\" by Andrew L. Maas, Raymond E. Daly, Peter T. Pham, Dan Huang, Andrew Y. Ng, and Christopher Potts, The 49th Annual Meeting of the Association for Computational Linguistics (ACL 2011). The dataset comprises 25,000 highly polar movie reviews for training and 25,000 for testing.\n",
        "\n",
        "From iteration Take1, we constructed a bag-of-words model and analyzed it with a simple TensorFlow deep learning network. Due to the system's memory limitation, we had to break up the script processing into two parts. Part A tested the model with the training dataset using a five-fold validation. Part B trained the final model with the entire training dataset and made predictions on a previously unseen test dataset.\n",
        "\n",
        "This Take2 iteration will construct a word-embedding model and analyze it with a simple TensorFlow deep learning network.\n",
        "\n",
        "ANALYSIS: From iteration Take1, the bag-of-words model's performance achieved an average accuracy score of 87.18% after 20 epochs with five iterations of cross-validation. Furthermore, the final model processed the test dataset with an accuracy measurement of 85.24%.\n",
        "\n",
        "In this Take2 iteration, the word-embedding model's performance achieved an average accuracy score of 88.21% after 10 epochs with five iterations of cross-validation. Furthermore, the final model processed the test dataset with an accuracy measurement of 85.84%.\n",
        "\n",
        "CONCLUSION: In this modeling iteration, the word-embedding TensorFlow model appeared to be suitable for modeling this dataset. We should consider experimenting with TensorFlow for further modeling.\n",
        "\n",
        "Dataset Used: Large Movie Review Dataset\n",
        "\n",
        "Dataset ML Model: Binary class text classification with text-oriented features\n",
        "\n",
        "Dataset Reference: https://ai.stanford.edu/~amaas/papers/wvSent_acl2011.bib\n",
        "\n",
        "One potential source of performance benchmarks: https://ai.stanford.edu/~amaas/data/sentiment/ and https://ai.stanford.edu/~amaas/papers/wvSent_acl2011.pdf\n",
        "\n",
        "A deep-learning text classification project generally can be broken down into five major tasks:\n",
        "\n",
        "1. Prepare Environment\n",
        "2. Load and Prepare Text Data\n",
        "3. Define and Train Models\n",
        "4. Evaluate and Optimize Models\n",
        "5. Finalize Model and Make Predictions"
      ]
    },
    {
      "cell_type": "markdown",
      "metadata": {
        "id": "IZamo1ynR9Oz"
      },
      "source": [
        "# Task 1 - Prepare Environment"
      ]
    },
    {
      "cell_type": "code",
      "metadata": {
        "id": "2N3QHMbUR9Oz"
      },
      "source": [
        "# # Install the packages to support accessing environment variable and SQL databases\n",
        "# !pip install python-dotenv PyMySQL boto3"
      ],
      "execution_count": 1,
      "outputs": []
    },
    {
      "cell_type": "code",
      "metadata": {
        "id": "ZOWG9MDAR9O2",
        "colab": {
          "base_uri": "https://localhost:8080/"
        },
        "outputId": "c5c2d8be-0d7e-4721-9934-0bcf1067c9bf"
      },
      "source": [
        "# Retrieve GPU configuration information from Colab\n",
        "gpu_info = !nvidia-smi\n",
        "gpu_info = '\\n'.join(gpu_info)\n",
        "if gpu_info.find('failed') >= 0:\n",
        "    print('Select the Runtime → \"Change runtime type\" menu to enable a GPU accelerator, ')\n",
        "    print('and then re-execute this cell.')\n",
        "else:\n",
        "    print(gpu_info)"
      ],
      "execution_count": 2,
      "outputs": [
        {
          "output_type": "stream",
          "text": [
            "Thu Mar  4 22:36:08 2021       \n",
            "+-----------------------------------------------------------------------------+\n",
            "| NVIDIA-SMI 460.39       Driver Version: 460.32.03    CUDA Version: 11.2     |\n",
            "|-------------------------------+----------------------+----------------------+\n",
            "| GPU  Name        Persistence-M| Bus-Id        Disp.A | Volatile Uncorr. ECC |\n",
            "| Fan  Temp  Perf  Pwr:Usage/Cap|         Memory-Usage | GPU-Util  Compute M. |\n",
            "|                               |                      |               MIG M. |\n",
            "|===============================+======================+======================|\n",
            "|   0  Tesla P100-PCIE...  Off  | 00000000:00:04.0 Off |                    0 |\n",
            "| N/A   45C    P0    30W / 250W |      0MiB / 16280MiB |      0%      Default |\n",
            "|                               |                      |                  N/A |\n",
            "+-------------------------------+----------------------+----------------------+\n",
            "                                                                               \n",
            "+-----------------------------------------------------------------------------+\n",
            "| Processes:                                                                  |\n",
            "|  GPU   GI   CI        PID   Type   Process name                  GPU Memory |\n",
            "|        ID   ID                                                   Usage      |\n",
            "|=============================================================================|\n",
            "|  No running processes found                                                 |\n",
            "+-----------------------------------------------------------------------------+\n"
          ],
          "name": "stdout"
        }
      ]
    },
    {
      "cell_type": "code",
      "metadata": {
        "id": "ryCwWMZuR9O4",
        "colab": {
          "base_uri": "https://localhost:8080/"
        },
        "outputId": "a8d9e567-df87-4bcc-d0c9-1046b63a9878"
      },
      "source": [
        "# Retrieve memory configuration information from Colab\n",
        "from psutil import virtual_memory\n",
        "ram_gb = virtual_memory().total / 1e9\n",
        "print('Your runtime has {:.1f} gigabytes of available RAM\\n'.format(ram_gb))\n",
        "\n",
        "if ram_gb < 20:\n",
        "    print('To enable a high-RAM runtime, select the Runtime → \"Change runtime type\"')\n",
        "    print('menu, and then select High-RAM in the Runtime shape dropdown. Then, ')\n",
        "    print('re-execute this cell.')\n",
        "else:\n",
        "    print('You are using a high-RAM runtime!')"
      ],
      "execution_count": 3,
      "outputs": [
        {
          "output_type": "stream",
          "text": [
            "Your runtime has 13.7 gigabytes of available RAM\n",
            "\n",
            "To enable a high-RAM runtime, select the Runtime → \"Change runtime type\"\n",
            "menu, and then select High-RAM in the Runtime shape dropdown. Then, \n",
            "re-execute this cell.\n"
          ],
          "name": "stdout"
        }
      ]
    },
    {
      "cell_type": "code",
      "metadata": {
        "colab": {
          "base_uri": "https://localhost:8080/"
        },
        "id": "WfPiU9LaR9O7",
        "outputId": "96de0a75-7cad-4589-ce6e-c53673021f29"
      },
      "source": [
        "# Retrieve CPU information from the system\n",
        "ncpu = !nproc\n",
        "print(\"The number of available CPUs is:\", ncpu[0])"
      ],
      "execution_count": 4,
      "outputs": [
        {
          "output_type": "stream",
          "text": [
            "The number of available CPUs is: 2\n"
          ],
          "name": "stdout"
        }
      ]
    },
    {
      "cell_type": "markdown",
      "metadata": {
        "id": "hUw0fDwqR9O-"
      },
      "source": [
        "## 1.a) Load libraries and modules"
      ]
    },
    {
      "cell_type": "code",
      "metadata": {
        "id": "UpJD2SzRR9O-"
      },
      "source": [
        "# Set the random seed number for reproducible results\n",
        "seedNum = 888"
      ],
      "execution_count": 5,
      "outputs": []
    },
    {
      "cell_type": "code",
      "metadata": {
        "id": "5yDoBs19R9PA"
      },
      "source": [
        "# Load libraries and packages\n",
        "import random\n",
        "random.seed(seedNum)\n",
        "import numpy as np\n",
        "np.random.seed(seedNum)\n",
        "import pandas as pd\n",
        "import matplotlib.pyplot as plt\n",
        "import matplotlib.image as mpimg\n",
        "import os\n",
        "import sys\n",
        "# import boto3\n",
        "import shutil\n",
        "import string\n",
        "import nltk\n",
        "from nltk.corpus import stopwords\n",
        "from collections import Counter\n",
        "from datetime import datetime\n",
        "# from dotenv import load_dotenv\n",
        "from sklearn.model_selection import RepeatedKFold\n",
        "from sklearn.metrics import accuracy_score\n",
        "from sklearn.metrics import confusion_matrix\n",
        "from sklearn.metrics import classification_report\n",
        "import tensorflow as tf\n",
        "tf.random.set_seed(seedNum)\n",
        "from tensorflow import keras\n",
        "from tensorflow.keras import layers\n",
        "from tensorflow.keras.preprocessing.text import Tokenizer\n",
        "from tensorflow.keras.preprocessing.sequence import pad_sequences\n",
        "from tensorflow.keras.callbacks import ReduceLROnPlateau"
      ],
      "execution_count": 6,
      "outputs": []
    },
    {
      "cell_type": "code",
      "metadata": {
        "id": "giDbodokP8ci",
        "colab": {
          "base_uri": "https://localhost:8080/"
        },
        "outputId": "aff2e1bc-7b4b-4032-fe3b-027b8db3c726"
      },
      "source": [
        "nltk.download('popular')"
      ],
      "execution_count": 7,
      "outputs": [
        {
          "output_type": "stream",
          "text": [
            "[nltk_data] Downloading collection 'popular'\n",
            "[nltk_data]    | \n",
            "[nltk_data]    | Downloading package cmudict to /root/nltk_data...\n",
            "[nltk_data]    |   Package cmudict is already up-to-date!\n",
            "[nltk_data]    | Downloading package gazetteers to /root/nltk_data...\n",
            "[nltk_data]    |   Package gazetteers is already up-to-date!\n",
            "[nltk_data]    | Downloading package genesis to /root/nltk_data...\n",
            "[nltk_data]    |   Package genesis is already up-to-date!\n",
            "[nltk_data]    | Downloading package gutenberg to /root/nltk_data...\n",
            "[nltk_data]    |   Package gutenberg is already up-to-date!\n",
            "[nltk_data]    | Downloading package inaugural to /root/nltk_data...\n",
            "[nltk_data]    |   Package inaugural is already up-to-date!\n",
            "[nltk_data]    | Downloading package movie_reviews to\n",
            "[nltk_data]    |     /root/nltk_data...\n",
            "[nltk_data]    |   Package movie_reviews is already up-to-date!\n",
            "[nltk_data]    | Downloading package names to /root/nltk_data...\n",
            "[nltk_data]    |   Package names is already up-to-date!\n",
            "[nltk_data]    | Downloading package shakespeare to /root/nltk_data...\n",
            "[nltk_data]    |   Package shakespeare is already up-to-date!\n",
            "[nltk_data]    | Downloading package stopwords to /root/nltk_data...\n",
            "[nltk_data]    |   Package stopwords is already up-to-date!\n",
            "[nltk_data]    | Downloading package treebank to /root/nltk_data...\n",
            "[nltk_data]    |   Package treebank is already up-to-date!\n",
            "[nltk_data]    | Downloading package twitter_samples to\n",
            "[nltk_data]    |     /root/nltk_data...\n",
            "[nltk_data]    |   Package twitter_samples is already up-to-date!\n",
            "[nltk_data]    | Downloading package omw to /root/nltk_data...\n",
            "[nltk_data]    |   Package omw is already up-to-date!\n",
            "[nltk_data]    | Downloading package wordnet to /root/nltk_data...\n",
            "[nltk_data]    |   Package wordnet is already up-to-date!\n",
            "[nltk_data]    | Downloading package wordnet_ic to /root/nltk_data...\n",
            "[nltk_data]    |   Package wordnet_ic is already up-to-date!\n",
            "[nltk_data]    | Downloading package words to /root/nltk_data...\n",
            "[nltk_data]    |   Package words is already up-to-date!\n",
            "[nltk_data]    | Downloading package maxent_ne_chunker to\n",
            "[nltk_data]    |     /root/nltk_data...\n",
            "[nltk_data]    |   Package maxent_ne_chunker is already up-to-date!\n",
            "[nltk_data]    | Downloading package punkt to /root/nltk_data...\n",
            "[nltk_data]    |   Package punkt is already up-to-date!\n",
            "[nltk_data]    | Downloading package snowball_data to\n",
            "[nltk_data]    |     /root/nltk_data...\n",
            "[nltk_data]    |   Package snowball_data is already up-to-date!\n",
            "[nltk_data]    | Downloading package averaged_perceptron_tagger to\n",
            "[nltk_data]    |     /root/nltk_data...\n",
            "[nltk_data]    |   Package averaged_perceptron_tagger is already up-\n",
            "[nltk_data]    |       to-date!\n",
            "[nltk_data]    | \n",
            "[nltk_data]  Done downloading collection popular\n"
          ],
          "name": "stdout"
        },
        {
          "output_type": "execute_result",
          "data": {
            "text/plain": [
              "True"
            ]
          },
          "metadata": {
            "tags": []
          },
          "execution_count": 7
        }
      ]
    },
    {
      "cell_type": "markdown",
      "metadata": {
        "id": "RcIz9xXxR9PC"
      },
      "source": [
        "## 1.b) Set up the controlling parameters and functions"
      ]
    },
    {
      "cell_type": "code",
      "metadata": {
        "colab": {
          "base_uri": "https://localhost:8080/"
        },
        "id": "YecJPSrfR9PC",
        "outputId": "7dff55d8-fa12-4273-8a8c-5261a4e2a43f"
      },
      "source": [
        "# Begin the timer for the script processing\n",
        "startTimeScript = datetime.now()\n",
        "\n",
        "# Set up the number of CPU cores available for multi-thread processing\n",
        "n_jobs = 1\n",
        "\n",
        "# Set up the flag to stop sending progress emails (setting to True will send status emails!)\n",
        "notifyStatus = False\n",
        "\n",
        "# Set Pandas options\n",
        "pd.set_option(\"display.max_rows\", None)\n",
        "pd.set_option(\"display.max_columns\", None)\n",
        "pd.set_option(\"display.width\", 140)\n",
        "\n",
        "# Set the percentage sizes for splitting the dataset\n",
        "test_set_size = 0.2\n",
        "val_set_size = 0.25\n",
        "\n",
        "# Set the number of folds for cross validation\n",
        "n_folds = 5\n",
        "n_iterations = 1\n",
        "\n",
        "# Set various default modeling parameters\n",
        "default_loss = 'binary_crossentropy'\n",
        "default_metrics = ['accuracy']\n",
        "default_optimizer = tf.keras.optimizers.Adam(learning_rate=0.001)\n",
        "default_kernel_init = tf.keras.initializers.GlorotUniform(seed=seedNum)\n",
        "default_epochs = 10\n",
        "default_batch_size = 64\n",
        "default_vector_space = 100\n",
        "default_filters = 32\n",
        "default_kernel_size = 8\n",
        "default_pool_size = 2\n",
        "\n",
        "# Define the labels to use for graphing the data\n",
        "train_metric = \"accuracy\"\n",
        "validation_metric = \"val_accuracy\"\n",
        "train_loss = \"loss\"\n",
        "validation_loss = \"val_loss\"\n",
        "\n",
        "# Check the number of GPUs accessible through TensorFlow\n",
        "print('Num GPUs Available:', len(tf.config.list_physical_devices('GPU')))\n",
        "\n",
        "# Print out the TensorFlow version for confirmation\n",
        "print('TensorFlow version:', tf.__version__)"
      ],
      "execution_count": 8,
      "outputs": [
        {
          "output_type": "stream",
          "text": [
            "Num GPUs Available: 1\n",
            "TensorFlow version: 2.4.1\n"
          ],
          "name": "stdout"
        }
      ]
    },
    {
      "cell_type": "code",
      "metadata": {
        "id": "ggPdMUQfR9PE"
      },
      "source": [
        "# Set up the parent directory location for loading the dotenv files\n",
        "# from google.colab import drive\n",
        "# drive.mount('/content/gdrive')\n",
        "# gdrivePrefix = '/content/gdrive/My Drive/Colab_Downloads/'\n",
        "# env_path = '/content/gdrive/My Drive/Colab Notebooks/'\n",
        "# dotenv_path = env_path + \"python_script.env\"\n",
        "# load_dotenv(dotenv_path=dotenv_path)\n",
        "\n",
        "# Set up the dotenv file for retrieving environment variables\n",
        "# env_path = \"/Users/david/PycharmProjects/\"\n",
        "# dotenv_path = env_path + \"python_script.env\"\n",
        "# load_dotenv(dotenv_path=dotenv_path)"
      ],
      "execution_count": 9,
      "outputs": []
    },
    {
      "cell_type": "code",
      "metadata": {
        "id": "1j-y-SvmR9PG"
      },
      "source": [
        "# Set up the email notification function\n",
        "def status_notify(msg_text):\n",
        "    access_key = os.environ.get('SNS_ACCESS_KEY')\n",
        "    secret_key = os.environ.get('SNS_SECRET_KEY')\n",
        "    aws_region = os.environ.get('SNS_AWS_REGION')\n",
        "    topic_arn = os.environ.get('SNS_TOPIC_ARN')\n",
        "    if (access_key is None) or (secret_key is None) or (aws_region is None):\n",
        "        sys.exit(\"Incomplete notification setup info. Script Processing Aborted!!!\")\n",
        "    sns = boto3.client('sns', aws_access_key_id=access_key, aws_secret_access_key=secret_key, region_name=aws_region)\n",
        "    response = sns.publish(TopicArn=topic_arn, Message=msg_text)\n",
        "    if response['ResponseMetadata']['HTTPStatusCode'] != 200 :\n",
        "        print('Status notification not OK with HTTP status code:', response['ResponseMetadata']['HTTPStatusCode'])"
      ],
      "execution_count": 10,
      "outputs": []
    },
    {
      "cell_type": "code",
      "metadata": {
        "id": "KDY6p9pWR9PI"
      },
      "source": [
        "if notifyStatus: status_notify('(TensorFlow Text Classification) Task 1 - Prepare Environment has begun on ' + datetime.now().strftime('%A %B %d, %Y %I:%M:%S %p'))"
      ],
      "execution_count": 11,
      "outputs": []
    },
    {
      "cell_type": "code",
      "metadata": {
        "id": "YQtFgiRNR9PJ"
      },
      "source": [
        "# Reset the random number generators\n",
        "def reset_random(x):\n",
        "    random.seed(x)\n",
        "    np.random.seed(x)\n",
        "    tf.random.set_seed(x)"
      ],
      "execution_count": 12,
      "outputs": []
    },
    {
      "cell_type": "code",
      "metadata": {
        "id": "7auUp3NTR9PL",
        "jupyter": {
          "outputs_hidden": false
        },
        "pycharm": {
          "name": "#%%\n"
        }
      },
      "source": [
        "if notifyStatus: status_notify('(TensorFlow Text Classification) Task 1 - Prepare Environment completed on ' + datetime.now().strftime('%A %B %d, %Y %I:%M:%S %p'))"
      ],
      "execution_count": 13,
      "outputs": []
    },
    {
      "cell_type": "markdown",
      "metadata": {
        "id": "HkkVYtk_R9PN"
      },
      "source": [
        "# Task 2 - Load and Prepare Text Data"
      ]
    },
    {
      "cell_type": "code",
      "metadata": {
        "id": "pX4nz8fYR9PN",
        "jupyter": {
          "outputs_hidden": false
        },
        "pycharm": {
          "name": "#%%\n"
        }
      },
      "source": [
        "if notifyStatus: status_notify('(TensorFlow Text Classification) Task 2 - Load and Prepare Text Data has begun on ' + datetime.now().strftime('%A %B %d, %Y %I:%M:%S %p'))"
      ],
      "execution_count": 14,
      "outputs": []
    },
    {
      "cell_type": "markdown",
      "metadata": {
        "id": "9ykQBe8YP8cm"
      },
      "source": [
        "## 2.a) Download Text Data Archive"
      ]
    },
    {
      "cell_type": "code",
      "metadata": {
        "id": "72uuLoG4R9PP"
      },
      "source": [
        "# Clean up the old files and download directories before receiving new ones\n",
        "!rm -rf staging/\n",
        "!rm aclImdb_v1.tar.gz\n",
        "!rm vocabulary.txt"
      ],
      "execution_count": 15,
      "outputs": []
    },
    {
      "cell_type": "code",
      "metadata": {
        "colab": {
          "base_uri": "https://localhost:8080/"
        },
        "id": "zpFEjo72R9PR",
        "outputId": "aa34046c-298c-4240-89dd-db1c04af784c"
      },
      "source": [
        "!wget https://dainesanalytics.com/datasets/acl2011-large-movie-review/aclImdb_v1.tar.gz"
      ],
      "execution_count": 16,
      "outputs": [
        {
          "output_type": "stream",
          "text": [
            "--2021-03-04 22:36:13--  https://dainesanalytics.com/datasets/acl2011-large-movie-review/aclImdb_v1.tar.gz\n",
            "Resolving dainesanalytics.com (dainesanalytics.com)... 13.226.50.123, 13.226.50.115, 13.226.50.69, ...\n",
            "Connecting to dainesanalytics.com (dainesanalytics.com)|13.226.50.123|:443... connected.\n",
            "HTTP request sent, awaiting response... 200 OK\n",
            "Length: 84125825 (80M) [application/x-gzip]\n",
            "Saving to: ‘aclImdb_v1.tar.gz’\n",
            "\n",
            "aclImdb_v1.tar.gz   100%[===================>]  80.23M  19.2MB/s    in 4.1s    \n",
            "\n",
            "2021-03-04 22:36:17 (19.7 MB/s) - ‘aclImdb_v1.tar.gz’ saved [84125825/84125825]\n",
            "\n"
          ],
          "name": "stdout"
        }
      ]
    },
    {
      "cell_type": "markdown",
      "metadata": {
        "id": "qZu-j_6RP8cn"
      },
      "source": [
        "## 2.b) Splitting Data for Training and Validation"
      ]
    },
    {
      "cell_type": "code",
      "metadata": {
        "id": "toRUbKUuR9PV"
      },
      "source": [
        "staging_dir = 'staging/'\n",
        "!mkdir staging/"
      ],
      "execution_count": 17,
      "outputs": []
    },
    {
      "cell_type": "code",
      "metadata": {
        "id": "tJJNvd7fR9PX"
      },
      "source": [
        "local_archive = 'aclImdb_v1.tar.gz'\n",
        "shutil.unpack_archive(local_archive, staging_dir)"
      ],
      "execution_count": 18,
      "outputs": []
    },
    {
      "cell_type": "code",
      "metadata": {
        "id": "z-RNe5RDR9PY"
      },
      "source": [
        "training_dir = 'staging/aclImdb/train/'\n",
        "testing_dir = 'staging/aclImdb/test/'\n",
        "classA_name = 'pos'\n",
        "classB_name = 'neg'"
      ],
      "execution_count": 19,
      "outputs": []
    },
    {
      "cell_type": "code",
      "metadata": {
        "id": "zeqkCwGwP8co",
        "colab": {
          "base_uri": "https://localhost:8080/"
        },
        "outputId": "e683a0c3-42d6-4bc0-b905-ae62ac4727f6"
      },
      "source": [
        "# Brief listing of training text files for both classes before splitting\n",
        "training_classA_dir = os.path.join(training_dir, classA_name)\n",
        "training_classA_files = os.listdir(training_classA_dir)\n",
        "print('Number of training images for', classA_name, ':', len(training_classA_files))\n",
        "print('Training samples for', classA_name, ':', training_classA_files[:10])\n",
        "\n",
        "training_classB_dir = os.path.join(training_dir, classB_name)\n",
        "training_classB_files = os.listdir(training_classB_dir)\n",
        "print('Number of training images for', classB_name, ':', len(training_classB_files))\n",
        "print('Training samples for', classB_name, ':', training_classB_files[:10])"
      ],
      "execution_count": 20,
      "outputs": [
        {
          "output_type": "stream",
          "text": [
            "Number of training images for pos : 12500\n",
            "Training samples for pos : ['8450_7.txt', '2527_9.txt', '1061_10.txt', '4335_9.txt', '8689_7.txt', '1033_10.txt', '8834_9.txt', '8108_10.txt', '3671_7.txt', '141_9.txt']\n",
            "Number of training images for neg : 12500\n",
            "Training samples for neg : ['12037_1.txt', '2627_1.txt', '11764_3.txt', '9476_4.txt', '5526_3.txt', '5015_1.txt', '4672_3.txt', '2522_4.txt', '12303_1.txt', '10561_1.txt']\n"
          ],
          "name": "stdout"
        }
      ]
    },
    {
      "cell_type": "code",
      "metadata": {
        "id": "FIKmAlQ6P8co",
        "colab": {
          "base_uri": "https://localhost:8080/"
        },
        "outputId": "64b150a8-f2fe-44be-8d93-50656d50e776"
      },
      "source": [
        "# Brief listing of testing text files for both classes after splitting\n",
        "testing_classA_dir = os.path.join(testing_dir, classA_name)\n",
        "testing_classA_files = os.listdir(testing_classA_dir)\n",
        "print('Number of testing files for', classA_name, ':', len(testing_classA_files))\n",
        "print('Test samples for', classA_name, ':', testing_classA_files[:10])\n",
        "\n",
        "testing_classB_dir = os.path.join(testing_dir, classB_name)\n",
        "testing_classB_files = os.listdir(testing_classB_dir)\n",
        "print('Number of testing files for', classB_name, ':', len(testing_classB_files))\n",
        "print('Test samples for', classB_name, ':', testing_classB_files[:10])"
      ],
      "execution_count": 21,
      "outputs": [
        {
          "output_type": "stream",
          "text": [
            "Number of testing files for pos : 12500\n",
            "Test samples for pos : ['8450_7.txt', '11466_8.txt', '2344_10.txt', '4269_7.txt', '2527_9.txt', '6721_8.txt', '1429_7.txt', '6138_10.txt', '4335_9.txt', '4915_10.txt']\n",
            "Number of testing files for neg : 12500\n",
            "Test samples for neg : ['1239_4.txt', '10653_1.txt', '6102_1.txt', '12370_1.txt', '6773_4.txt', '10541_2.txt', '6242_3.txt', '4386_1.txt', '4203_3.txt', '5015_1.txt']\n"
          ],
          "name": "stdout"
        }
      ]
    },
    {
      "cell_type": "markdown",
      "metadata": {
        "id": "5-PvEDq3P8cp"
      },
      "source": [
        "## 2.c) Load Document and Build Vocabulary"
      ]
    },
    {
      "cell_type": "code",
      "metadata": {
        "id": "iUglIricP8cp"
      },
      "source": [
        "# load doc into memory\n",
        "def load_doc(filename):\n",
        "    # open the file as read only\n",
        "    file = open(filename, 'r')\n",
        "    # read all text\n",
        "    text = file.read()\n",
        "    # close the file\n",
        "    file.close()\n",
        "    return text"
      ],
      "execution_count": 22,
      "outputs": []
    },
    {
      "cell_type": "code",
      "metadata": {
        "id": "A6ajSXvMR9Pb"
      },
      "source": [
        "# turn a doc into clean tokens\n",
        "def clean_doc(doc):\n",
        "    # split into tokens by white space\n",
        "    tokens = doc.split()\n",
        "    # remove punctuation from each token\n",
        "    table = str.maketrans('', '', string.punctuation)\n",
        "    tokens = [w.translate(table) for w in tokens]\n",
        "    # remove remaining tokens that are not alphabetic\n",
        "    tokens = [word for word in tokens if word.isalpha()]\n",
        "    # filter out stop words\n",
        "    stop_words = set(stopwords.words('english'))\n",
        "    tokens = [w for w in tokens if not w in stop_words]\n",
        "    # filter out short tokens\n",
        "    tokens = [word for word in tokens if len(word) > 1]\n",
        "    return tokens"
      ],
      "execution_count": 23,
      "outputs": []
    },
    {
      "cell_type": "code",
      "metadata": {
        "id": "8qr82YStP8cp"
      },
      "source": [
        "# load doc and add to vocab\n",
        "def add_doc_to_vocab(filename, vocab):\n",
        "    # load doc\n",
        "    doc = load_doc(filename)\n",
        "    # clean doc\n",
        "    tokens = clean_doc(doc)\n",
        "    # update counts\n",
        "    vocab.update(tokens)"
      ],
      "execution_count": 24,
      "outputs": []
    },
    {
      "cell_type": "code",
      "metadata": {
        "id": "-tzfXdTkP8cp"
      },
      "source": [
        "# load all docs in a directory\n",
        "def build_vocab_from_docs(directory, vocab):\n",
        "    # walk through all files in the folder\n",
        "    i = 0\n",
        "    print('Processing the text files and showing the first 10...')\n",
        "    for filename in os.listdir(directory):\n",
        "        # skip files that do not have the right extension\n",
        "        if not filename.endswith(\".txt\"):\n",
        "            continue\n",
        "        # create the full path of the file to open\n",
        "        path = directory + '/' + filename\n",
        "        # add doc to vocab\n",
        "        add_doc_to_vocab(path, vocab)\n",
        "        i = i + 1\n",
        "        if i < 10: print('Loaded %s' % path)\n",
        "    print('Total number of text files loaded:', i, '\\n')"
      ],
      "execution_count": 25,
      "outputs": []
    },
    {
      "cell_type": "code",
      "metadata": {
        "id": "8eki-4CBP8cq",
        "colab": {
          "base_uri": "https://localhost:8080/"
        },
        "outputId": "89f8c97b-0746-4462-aeb4-45a62c5af51a"
      },
      "source": [
        "# define vocab\n",
        "vocab = Counter()\n",
        "# add all docs to vocab\n",
        "build_vocab_from_docs(training_classA_dir, vocab)\n",
        "build_vocab_from_docs(training_classB_dir, vocab)\n",
        "# print the size of the vocab\n",
        "print('The total number of words in the vocabulary:', len(vocab))\n",
        "# print the top words in the vocab\n",
        "top_words = 50\n",
        "print('The top', top_words, 'words in the vocabulary:\\n', vocab.most_common(top_words))"
      ],
      "execution_count": 26,
      "outputs": [
        {
          "output_type": "stream",
          "text": [
            "Processing the text files and showing the first 10...\n",
            "Loaded staging/aclImdb/train/pos/8450_7.txt\n",
            "Loaded staging/aclImdb/train/pos/2527_9.txt\n",
            "Loaded staging/aclImdb/train/pos/1061_10.txt\n",
            "Loaded staging/aclImdb/train/pos/4335_9.txt\n",
            "Loaded staging/aclImdb/train/pos/8689_7.txt\n",
            "Loaded staging/aclImdb/train/pos/1033_10.txt\n",
            "Loaded staging/aclImdb/train/pos/8834_9.txt\n",
            "Loaded staging/aclImdb/train/pos/8108_10.txt\n",
            "Loaded staging/aclImdb/train/pos/3671_7.txt\n",
            "Total number of text files loaded: 12500 \n",
            "\n",
            "Processing the text files and showing the first 10...\n",
            "Loaded staging/aclImdb/train/neg/12037_1.txt\n",
            "Loaded staging/aclImdb/train/neg/2627_1.txt\n",
            "Loaded staging/aclImdb/train/neg/11764_3.txt\n",
            "Loaded staging/aclImdb/train/neg/9476_4.txt\n",
            "Loaded staging/aclImdb/train/neg/5526_3.txt\n",
            "Loaded staging/aclImdb/train/neg/5015_1.txt\n",
            "Loaded staging/aclImdb/train/neg/4672_3.txt\n",
            "Loaded staging/aclImdb/train/neg/2522_4.txt\n",
            "Loaded staging/aclImdb/train/neg/12303_1.txt\n",
            "Total number of text files loaded: 12500 \n",
            "\n",
            "The total number of words in the vocabulary: 138430\n",
            "The top 50 words in the vocabulary:\n",
            " [('br', 57141), ('The', 44351), ('movie', 41198), ('film', 37009), ('one', 23188), ('like', 18876), ('This', 14725), ('good', 13927), ('It', 12074), ('would', 12010), ('time', 11504), ('really', 11276), ('story', 11058), ('even', 10882), ('see', 10854), ('much', 9289), ('get', 8996), ('people', 8474), ('bad', 8456), ('great', 8260), ('made', 7887), ('first', 7881), ('well', 7850), ('also', 7722), ('make', 7599), ('films', 7597), ('movies', 7587), ('could', 7567), ('way', 7467), ('dont', 7333), ('But', 7216), ('characters', 7183), ('think', 7078), ('Its', 6738), ('And', 6715), ('seen', 6486), ('character', 6455), ('watch', 6269), ('many', 6233), ('two', 6171), ('plot', 6137), ('acting', 6110), ('never', 6101), ('little', 5981), ('know', 5954), ('In', 5880), ('best', 5717), ('love', 5701), ('show', 5683), ('life', 5651)]\n"
          ],
          "name": "stdout"
        }
      ]
    },
    {
      "cell_type": "code",
      "metadata": {
        "id": "c05WRvv_P8cq",
        "colab": {
          "base_uri": "https://localhost:8080/"
        },
        "outputId": "7ed9d418-852d-4787-bacf-ef3105f12578"
      },
      "source": [
        "# keep tokens with a min occurrence\n",
        "min_occurane = 2\n",
        "tokens = [k for k,c in vocab.items() if c >= min_occurane]\n",
        "print('The number of words with the minimum appearance:', len(tokens))"
      ],
      "execution_count": 27,
      "outputs": [
        {
          "output_type": "stream",
          "text": [
            "The number of words with the minimum appearance: 65663\n"
          ],
          "name": "stdout"
        }
      ]
    },
    {
      "cell_type": "code",
      "metadata": {
        "id": "Al46PTtlP8cr"
      },
      "source": [
        "# save list to file\n",
        "def save_list(lines, filename):\n",
        "    # convert lines to a single blob of text\n",
        "    data = '\\n'.join(lines)\n",
        "    # open file\n",
        "    file = open(filename, 'w')\n",
        "    # write text\n",
        "    file.write(data)\n",
        "    # close file\n",
        "    file.close()\n",
        "\n",
        "# save tokens to a vocabulary file\n",
        "save_list(tokens, 'vocabulary.txt')"
      ],
      "execution_count": 28,
      "outputs": []
    },
    {
      "cell_type": "markdown",
      "metadata": {
        "id": "pAOyquCiP8cr"
      },
      "source": [
        "## 2.d) Create Tokenizer and Encode the Input Text"
      ]
    },
    {
      "cell_type": "code",
      "metadata": {
        "id": "pgGRcimaP8cr"
      },
      "source": [
        "# load doc, clean and return line of tokens\n",
        "def doc_to_line(filename, vocab):\n",
        "    # load the doc\n",
        "    doc = load_doc(filename)\n",
        "    # clean doc\n",
        "    tokens = clean_doc(doc)\n",
        "    # filter by vocab\n",
        "    tokens = [w for w in tokens if w in vocab]\n",
        "    return ' '.join(tokens)"
      ],
      "execution_count": 29,
      "outputs": []
    },
    {
      "cell_type": "code",
      "metadata": {
        "id": "R_MKy7J4P8cr"
      },
      "source": [
        "# load all docs in a directory\n",
        "def process_docs_to_lines(directory, vocab):\n",
        "    lines = list()\n",
        "    # walk through all files in the folder\n",
        "    for filename in os.listdir(directory):\n",
        "        # create the full path of the file to open\n",
        "        path = directory + '/' + filename\n",
        "        # load and clean the doc\n",
        "        line = doc_to_line(path, vocab)\n",
        "        # add to list\n",
        "        lines.append(line)\n",
        "    return lines"
      ],
      "execution_count": 30,
      "outputs": []
    },
    {
      "cell_type": "code",
      "metadata": {
        "id": "1Mfjwfg9P8cs",
        "colab": {
          "base_uri": "https://localhost:8080/"
        },
        "outputId": "b4f61cc8-cb35-4943-d418-a79f9ecf6099"
      },
      "source": [
        "# load the vocabulary\n",
        "vocab_filename = 'vocabulary.txt'\n",
        "vocab = load_doc(vocab_filename)\n",
        "vocab = vocab.split()\n",
        "vocab = set(vocab)\n",
        "print('Number of tokens in the vocabulary:', len(vocab))"
      ],
      "execution_count": 31,
      "outputs": [
        {
          "output_type": "stream",
          "text": [
            "Number of tokens in the vocabulary: 65663\n"
          ],
          "name": "stdout"
        }
      ]
    },
    {
      "cell_type": "code",
      "metadata": {
        "id": "rTi_dLeMP8cs"
      },
      "source": [
        "# prepare bag of words encoding of docs\n",
        "def encode_training_data(train_docs, maxlen):\n",
        "    # create the tokenizer\n",
        "    tokenizer = Tokenizer()\n",
        "    # fit the tokenizer on the documents\n",
        "    tokenizer.fit_on_texts(train_docs)\n",
        "    # encode training data set\n",
        "    encoded_docs = tokenizer.texts_to_sequences(train_docs)\n",
        "    # pad sequences\n",
        "    train_encoded = pad_sequences(encoded_docs, maxlen=maxlen, padding='post')\n",
        "    # define vocabulary size (largest integer value)\n",
        "    vocab_size = len(tokenizer.word_index) + 1\n",
        "    return train_encoded, vocab_size"
      ],
      "execution_count": 32,
      "outputs": []
    },
    {
      "cell_type": "code",
      "metadata": {
        "id": "qF26Y6ZoP8ct",
        "colab": {
          "base_uri": "https://localhost:8080/"
        },
        "outputId": "889f01aa-06d5-4ace-d194-69237d02507a"
      },
      "source": [
        "# Load all training cases\n",
        "positive_train_cases = process_docs_to_lines(training_classA_dir, vocab)\n",
        "print('The number of positive reviews processed:', len(positive_train_cases))\n",
        "negative_train_cases = process_docs_to_lines(training_classB_dir, vocab)\n",
        "print('The number of negative reviews processed:', len(negative_train_cases))\n",
        "training_docs =  negative_train_cases + positive_train_cases\n",
        "y_train = np.array([0 for _ in range(len(negative_train_cases))] + [1 for _ in range(len(positive_train_cases))])\n",
        "print('The shape of the encoded training classes:', y_train.shape)"
      ],
      "execution_count": 33,
      "outputs": [
        {
          "output_type": "stream",
          "text": [
            "The number of positive reviews processed: 12500\n",
            "The number of negative reviews processed: 12500\n",
            "The shape of the encoded training classes: (25000,)\n"
          ],
          "name": "stdout"
        }
      ]
    },
    {
      "cell_type": "code",
      "metadata": {
        "id": "Ejlu5rx_P8cu",
        "colab": {
          "base_uri": "https://localhost:8080/"
        },
        "outputId": "86f5f879-c31c-415e-9053-f375991c4fc7"
      },
      "source": [
        "# Get maximum doc length for padding sequences\n",
        "max_length = max([len(s.split()) for s in training_docs])\n",
        "print('The maximum document length:', max_length)"
      ],
      "execution_count": 34,
      "outputs": [
        {
          "output_type": "stream",
          "text": [
            "The maximum document length: 1447\n"
          ],
          "name": "stdout"
        }
      ]
    },
    {
      "cell_type": "code",
      "metadata": {
        "id": "fMBFsdlwP8cw",
        "colab": {
          "base_uri": "https://localhost:8080/"
        },
        "outputId": "efcd10d0-5e9f-4e33-9960-5fda817b5760"
      },
      "source": [
        "# encode training datasets\n",
        "X_train, vocabulary_size = encode_training_data(training_docs, max_length)\n",
        "print('The vocabulary size:', vocabulary_size)\n",
        "print('The shape of the encoded training dataset:', X_train.shape)"
      ],
      "execution_count": 35,
      "outputs": [
        {
          "output_type": "stream",
          "text": [
            "The vocabulary size: 54889\n",
            "The shape of the encoded training dataset: (25000, 1447)\n"
          ],
          "name": "stdout"
        }
      ]
    },
    {
      "cell_type": "code",
      "metadata": {
        "id": "JdeBWbYeR9Pi"
      },
      "source": [
        "if notifyStatus: status_notify('(TensorFlow Text Classification) Task 2 - Load and Prepare Text Data completed on ' + datetime.now().strftime('%A %B %d, %Y %I:%M:%S %p'))"
      ],
      "execution_count": 36,
      "outputs": []
    },
    {
      "cell_type": "markdown",
      "metadata": {
        "id": "jGVOq6P6R9Pj"
      },
      "source": [
        "# Task 3 - Define and Train Models"
      ]
    },
    {
      "cell_type": "code",
      "metadata": {
        "id": "W52KEpCWR9Pk"
      },
      "source": [
        "if notifyStatus: status_notify('(TensorFlow Text Classification) Task 3 - Define and Train Models has begun on ' + datetime.now().strftime('%A %B %d, %Y %I:%M:%S %p'))"
      ],
      "execution_count": 37,
      "outputs": []
    },
    {
      "cell_type": "code",
      "metadata": {
        "id": "3Hc3C36oP8cy"
      },
      "source": [
        "# Define the default numbers of input/output for modeling\n",
        "num_outputs = 1"
      ],
      "execution_count": 38,
      "outputs": []
    },
    {
      "cell_type": "code",
      "metadata": {
        "id": "QGP17zaqP8cy"
      },
      "source": [
        "# Define the baseline model for benchmarking\n",
        "def create_nn_model(n_inputs=max_length, n_outputs=num_outputs, n_vocab=vocabulary_size, n_vectors=default_vector_space, n_pools=default_pool_size, \n",
        "                    conv1_filters=default_filters, conv1_kernels=default_kernel_size, dense_nodes=256, opt_param=default_optimizer, init_param=default_kernel_init):\n",
        "    nn_model = keras.Sequential([\n",
        "        layers.Embedding(n_vocab, n_vectors, input_length=n_inputs),\n",
        "        layers.Conv1D(filters=conv1_filters, kernel_size=conv1_kernels, activation='relu'),\n",
        "        layers.MaxPooling1D(pool_size=n_pools),\n",
        "        layers.Flatten(),\n",
        "        layers.Dense(dense_nodes, activation='relu', kernel_initializer=init_param),\n",
        "        layers.Dense(n_outputs, activation='sigmoid', kernel_initializer=init_param)\n",
        "    ])\n",
        "    nn_model.compile(loss=default_loss, optimizer=opt_param, metrics=default_metrics)\n",
        "    return nn_model"
      ],
      "execution_count": 39,
      "outputs": []
    },
    {
      "cell_type": "code",
      "metadata": {
        "id": "mPFXf1oEP8cz",
        "colab": {
          "base_uri": "https://localhost:8080/"
        },
        "outputId": "ef02be25-d9bd-4825-936c-6cb24e1a8cc2"
      },
      "source": [
        "# Initialize the default model and get a baseline result\n",
        "startTimeModule = datetime.now()\n",
        "results = list()\n",
        "iteration = 0\n",
        "cv = RepeatedKFold(n_splits=n_folds, n_repeats=n_iterations, random_state=seedNum)\n",
        "for train_ix, val_ix in cv.split(X_train):\n",
        "    feature_train, feature_validation = X_train[train_ix], X_train[val_ix]\n",
        "    target_train, target_validation = y_train[train_ix], y_train[val_ix]\n",
        "    reset_random(seedNum)\n",
        "    baseline_model = create_nn_model()\n",
        "    baseline_model.fit(feature_train, target_train, epochs=default_epochs, batch_size=default_batch_size, verbose=1)\n",
        "    model_metric = baseline_model.evaluate(feature_validation, target_validation, verbose=0)[1]\n",
        "    iteration = iteration + 1\n",
        "    print('Accuracy measurement from iteration %d >>> %.2f%%' % (iteration, model_metric*100))\n",
        "    results.append(model_metric)\n",
        "validation_score = np.mean(results)\n",
        "validation_variance = np.std(results)\n",
        "print('Average model accuracy from all validation iterations: %.2f%% (%.2f%%)' % (validation_score*100, validation_variance*100))\n",
        "print('Total time for model fitting and cross validating:', (datetime.now() - startTimeModule))"
      ],
      "execution_count": 40,
      "outputs": [
        {
          "output_type": "stream",
          "text": [
            "Epoch 1/10\n",
            "313/313 [==============================] - 25s 75ms/step - loss: 0.5471 - accuracy: 0.6682\n",
            "Epoch 2/10\n",
            "313/313 [==============================] - 23s 74ms/step - loss: 0.1227 - accuracy: 0.9568\n",
            "Epoch 3/10\n",
            "313/313 [==============================] - 23s 74ms/step - loss: 0.0245 - accuracy: 0.9941\n",
            "Epoch 4/10\n",
            "313/313 [==============================] - 24s 75ms/step - loss: 0.0034 - accuracy: 0.9995\n",
            "Epoch 5/10\n",
            "313/313 [==============================] - 24s 76ms/step - loss: 6.4197e-04 - accuracy: 0.9999\n",
            "Epoch 6/10\n",
            "313/313 [==============================] - 24s 76ms/step - loss: 1.4765e-04 - accuracy: 1.0000\n",
            "Epoch 7/10\n",
            "313/313 [==============================] - 24s 77ms/step - loss: 6.6335e-05 - accuracy: 1.0000\n",
            "Epoch 8/10\n",
            "313/313 [==============================] - 24s 77ms/step - loss: 4.1698e-05 - accuracy: 1.0000\n",
            "Epoch 9/10\n",
            "313/313 [==============================] - 24s 77ms/step - loss: 2.4217e-05 - accuracy: 1.0000\n",
            "Epoch 10/10\n",
            "313/313 [==============================] - 24s 76ms/step - loss: 1.2923e-05 - accuracy: 1.0000\n",
            "Accuracy measurement from iteration 1 >>> 87.94%\n",
            "Epoch 1/10\n",
            "313/313 [==============================] - 24s 74ms/step - loss: 0.5111 - accuracy: 0.7532\n",
            "Epoch 2/10\n",
            "313/313 [==============================] - 23s 74ms/step - loss: 0.0940 - accuracy: 0.9679\n",
            "Epoch 3/10\n",
            "313/313 [==============================] - 23s 75ms/step - loss: 0.0135 - accuracy: 0.9972\n",
            "Epoch 4/10\n",
            "313/313 [==============================] - 23s 74ms/step - loss: 0.0015 - accuracy: 0.9998\n",
            "Epoch 5/10\n",
            "313/313 [==============================] - 23s 74ms/step - loss: 2.8625e-04 - accuracy: 1.0000\n",
            "Epoch 6/10\n",
            "313/313 [==============================] - 23s 74ms/step - loss: 1.1486e-04 - accuracy: 1.0000\n",
            "Epoch 7/10\n",
            "313/313 [==============================] - 23s 74ms/step - loss: 8.3487e-05 - accuracy: 1.0000\n",
            "Epoch 8/10\n",
            "313/313 [==============================] - 23s 72ms/step - loss: 5.0535e-05 - accuracy: 1.0000\n",
            "Epoch 9/10\n",
            "313/313 [==============================] - 23s 73ms/step - loss: 3.6470e-05 - accuracy: 1.0000\n",
            "Epoch 10/10\n",
            "313/313 [==============================] - 23s 74ms/step - loss: 2.8963e-05 - accuracy: 1.0000\n",
            "Accuracy measurement from iteration 2 >>> 88.50%\n",
            "Epoch 1/10\n",
            "313/313 [==============================] - 25s 79ms/step - loss: 0.4773 - accuracy: 0.7573\n",
            "Epoch 2/10\n",
            "313/313 [==============================] - 24s 78ms/step - loss: 0.0802 - accuracy: 0.9739\n",
            "Epoch 3/10\n",
            "313/313 [==============================] - 24s 78ms/step - loss: 0.0137 - accuracy: 0.9965\n",
            "Epoch 4/10\n",
            "313/313 [==============================] - 24s 78ms/step - loss: 0.0016 - accuracy: 0.9997\n",
            "Epoch 5/10\n",
            "313/313 [==============================] - 24s 78ms/step - loss: 4.3279e-04 - accuracy: 1.0000\n",
            "Epoch 6/10\n",
            "313/313 [==============================] - 25s 78ms/step - loss: 1.5606e-04 - accuracy: 1.0000\n",
            "Epoch 7/10\n",
            "313/313 [==============================] - 24s 78ms/step - loss: 1.1458e-04 - accuracy: 1.0000\n",
            "Epoch 8/10\n",
            "313/313 [==============================] - 24s 78ms/step - loss: 5.8523e-05 - accuracy: 1.0000\n",
            "Epoch 9/10\n",
            "313/313 [==============================] - 24s 78ms/step - loss: 6.9957e-05 - accuracy: 1.0000\n",
            "Epoch 10/10\n",
            "313/313 [==============================] - 24s 78ms/step - loss: 2.8591e-05 - accuracy: 1.0000\n",
            "Accuracy measurement from iteration 3 >>> 88.68%\n",
            "Epoch 1/10\n",
            "313/313 [==============================] - 23s 72ms/step - loss: 0.5259 - accuracy: 0.7224\n",
            "Epoch 2/10\n",
            "313/313 [==============================] - 22s 72ms/step - loss: 0.1012 - accuracy: 0.9651\n",
            "Epoch 3/10\n",
            "313/313 [==============================] - 23s 72ms/step - loss: 0.0136 - accuracy: 0.9964\n",
            "Epoch 4/10\n",
            "313/313 [==============================] - 23s 73ms/step - loss: 0.0018 - accuracy: 0.9997\n",
            "Epoch 5/10\n",
            "313/313 [==============================] - 23s 74ms/step - loss: 3.6674e-04 - accuracy: 1.0000\n",
            "Epoch 6/10\n",
            "313/313 [==============================] - 23s 75ms/step - loss: 9.0429e-05 - accuracy: 1.0000\n",
            "Epoch 7/10\n",
            "313/313 [==============================] - 23s 74ms/step - loss: 4.4077e-05 - accuracy: 1.0000\n",
            "Epoch 8/10\n",
            "313/313 [==============================] - 23s 74ms/step - loss: 3.1303e-05 - accuracy: 1.0000\n",
            "Epoch 9/10\n",
            "313/313 [==============================] - 23s 74ms/step - loss: 2.1439e-05 - accuracy: 1.0000\n",
            "Epoch 10/10\n",
            "313/313 [==============================] - 23s 74ms/step - loss: 1.1004e-05 - accuracy: 1.0000\n",
            "Accuracy measurement from iteration 4 >>> 87.48%\n",
            "Epoch 1/10\n",
            "313/313 [==============================] - 24s 75ms/step - loss: 0.4998 - accuracy: 0.7579\n",
            "Epoch 2/10\n",
            "313/313 [==============================] - 24s 76ms/step - loss: 0.0842 - accuracy: 0.9710\n",
            "Epoch 3/10\n",
            "313/313 [==============================] - 24s 76ms/step - loss: 0.0147 - accuracy: 0.9967\n",
            "Epoch 4/10\n",
            "313/313 [==============================] - 24s 76ms/step - loss: 0.0018 - accuracy: 0.9998\n",
            "Epoch 5/10\n",
            "313/313 [==============================] - 24s 76ms/step - loss: 9.1821e-04 - accuracy: 0.9999\n",
            "Epoch 6/10\n",
            "313/313 [==============================] - 24s 76ms/step - loss: 1.6410e-04 - accuracy: 1.0000\n",
            "Epoch 7/10\n",
            "313/313 [==============================] - 24s 77ms/step - loss: 1.0353e-04 - accuracy: 1.0000\n",
            "Epoch 8/10\n",
            "313/313 [==============================] - 24s 77ms/step - loss: 8.0234e-05 - accuracy: 1.0000\n",
            "Epoch 9/10\n",
            "313/313 [==============================] - 24s 76ms/step - loss: 5.5018e-05 - accuracy: 1.0000\n",
            "Epoch 10/10\n",
            "313/313 [==============================] - 24s 76ms/step - loss: 4.0372e-05 - accuracy: 1.0000\n",
            "Accuracy measurement from iteration 5 >>> 88.44%\n",
            "Average model accuracy from all validation iterations: 88.21% (0.44%)\n",
            "Total time for model fitting and cross validating: 0:19:52.391311\n"
          ],
          "name": "stdout"
        }
      ]
    },
    {
      "cell_type": "code",
      "metadata": {
        "id": "5vzQkIfyR9Ps",
        "jupyter": {
          "outputs_hidden": false
        },
        "pycharm": {
          "name": "#%%\n"
        }
      },
      "source": [
        "if notifyStatus: status_notify('(TensorFlow Text Classification) Task 3 - Define and Train Models completed on ' + datetime.now().strftime('%A %B %d, %Y %I:%M:%S %p'))"
      ],
      "execution_count": 41,
      "outputs": []
    },
    {
      "cell_type": "markdown",
      "metadata": {
        "id": "Tmuo6X06R9Pu"
      },
      "source": [
        "# Task 4 - Evaluate and Optimize Models"
      ]
    },
    {
      "cell_type": "code",
      "metadata": {
        "id": "h-Xp746uR9Pu",
        "jupyter": {
          "outputs_hidden": false
        },
        "pycharm": {
          "name": "#%%\n"
        }
      },
      "source": [
        "if notifyStatus: status_notify('(TensorFlow Text Classification) Task 4 - Evaluate and Optimize Models has begun on ' + datetime.now().strftime('%A %B %d, %Y %I:%M:%S %p'))"
      ],
      "execution_count": 42,
      "outputs": []
    },
    {
      "cell_type": "code",
      "metadata": {
        "id": "FzbY6CNSP8cz"
      },
      "source": [
        "# Not applicable for this iteration of modeling"
      ],
      "execution_count": 43,
      "outputs": []
    },
    {
      "cell_type": "code",
      "metadata": {
        "id": "6n7j3PwoR9P0"
      },
      "source": [
        "if notifyStatus: status_notify('(TensorFlow Text Classification) Task 4 - Evaluate and Optimize Models completed on ' + datetime.now().strftime('%A %B %d, %Y %I:%M:%S %p'))"
      ],
      "execution_count": 44,
      "outputs": []
    },
    {
      "cell_type": "markdown",
      "metadata": {
        "id": "oRcXHaGhR9P1"
      },
      "source": [
        "# Task 5 - Finalize Model and Make Predictions"
      ]
    },
    {
      "cell_type": "code",
      "metadata": {
        "id": "p3tj_9tBR9P2"
      },
      "source": [
        "if notifyStatus: status_notify('(TensorFlow Text Classification) Task 5 - Finalize Model and Make Predictions has begun on ' + datetime.now().strftime('%A %B %d, %Y %I:%M:%S %p'))"
      ],
      "execution_count": 45,
      "outputs": []
    },
    {
      "cell_type": "markdown",
      "metadata": {
        "id": "rO99DiY_P8c0"
      },
      "source": [
        "## 5.a) Train the Final Model"
      ]
    },
    {
      "cell_type": "code",
      "metadata": {
        "id": "3bIHJOrGP8c0",
        "colab": {
          "base_uri": "https://localhost:8080/"
        },
        "outputId": "939037ff-3008-483c-9688-3215fc4759c0"
      },
      "source": [
        "# Create the final model for evaluating the test dataset\n",
        "reset_random(seedNum)\n",
        "final_model = create_nn_model()\n",
        "final_model.fit(X_train, y_train, epochs=default_epochs, batch_size=default_batch_size, verbose=1)"
      ],
      "execution_count": 46,
      "outputs": [
        {
          "output_type": "stream",
          "text": [
            "Epoch 1/10\n",
            "391/391 [==============================] - 31s 78ms/step - loss: 0.6192 - accuracy: 0.7177\n",
            "Epoch 2/10\n",
            "391/391 [==============================] - 30s 77ms/step - loss: 0.1022 - accuracy: 0.9666\n",
            "Epoch 3/10\n",
            "391/391 [==============================] - 30s 77ms/step - loss: 0.0225 - accuracy: 0.9951\n",
            "Epoch 4/10\n",
            "391/391 [==============================] - 30s 77ms/step - loss: 0.0027 - accuracy: 0.9993\n",
            "Epoch 5/10\n",
            "391/391 [==============================] - 30s 78ms/step - loss: 7.2270e-04 - accuracy: 0.9997\n",
            "Epoch 6/10\n",
            "391/391 [==============================] - 30s 77ms/step - loss: 2.2573e-04 - accuracy: 1.0000\n",
            "Epoch 7/10\n",
            "391/391 [==============================] - 30s 78ms/step - loss: 3.1779e-04 - accuracy: 0.9999\n",
            "Epoch 8/10\n",
            "391/391 [==============================] - 30s 78ms/step - loss: 7.8314e-05 - accuracy: 1.0000\n",
            "Epoch 9/10\n",
            "391/391 [==============================] - 31s 78ms/step - loss: 6.8312e-05 - accuracy: 1.0000\n",
            "Epoch 10/10\n",
            "391/391 [==============================] - 30s 78ms/step - loss: 2.5540e-05 - accuracy: 1.0000\n"
          ],
          "name": "stdout"
        },
        {
          "output_type": "execute_result",
          "data": {
            "text/plain": [
              "<tensorflow.python.keras.callbacks.History at 0x7f817663f810>"
            ]
          },
          "metadata": {
            "tags": []
          },
          "execution_count": 46
        }
      ]
    },
    {
      "cell_type": "code",
      "metadata": {
        "id": "c5En2bIjP8c1",
        "colab": {
          "base_uri": "https://localhost:8080/"
        },
        "outputId": "4106b757-1d5f-4754-8b05-8b2434946d7f"
      },
      "source": [
        "# Summarize the final model\n",
        "final_model.summary()"
      ],
      "execution_count": 47,
      "outputs": [
        {
          "output_type": "stream",
          "text": [
            "Model: \"sequential_5\"\n",
            "_________________________________________________________________\n",
            "Layer (type)                 Output Shape              Param #   \n",
            "=================================================================\n",
            "embedding_5 (Embedding)      (None, 1447, 100)         5488900   \n",
            "_________________________________________________________________\n",
            "conv1d_5 (Conv1D)            (None, 1440, 32)          25632     \n",
            "_________________________________________________________________\n",
            "max_pooling1d_5 (MaxPooling1 (None, 720, 32)           0         \n",
            "_________________________________________________________________\n",
            "flatten_5 (Flatten)          (None, 23040)             0         \n",
            "_________________________________________________________________\n",
            "dense_10 (Dense)             (None, 256)               5898496   \n",
            "_________________________________________________________________\n",
            "dense_11 (Dense)             (None, 1)                 257       \n",
            "=================================================================\n",
            "Total params: 11,413,285\n",
            "Trainable params: 11,413,285\n",
            "Non-trainable params: 0\n",
            "_________________________________________________________________\n"
          ],
          "name": "stdout"
        }
      ]
    },
    {
      "cell_type": "markdown",
      "metadata": {
        "id": "o2MhrwrvP8c1"
      },
      "source": [
        "## 5.b) Make Predictions on Test Dataset"
      ]
    },
    {
      "cell_type": "code",
      "metadata": {
        "id": "UQ-7mZ5UP8c1",
        "colab": {
          "base_uri": "https://localhost:8080/"
        },
        "outputId": "85eea0b4-fdb4-40dc-d6ee-f3aebb16d882"
      },
      "source": [
        "# load all test cases\n",
        "positive_test_cases = process_docs_to_lines(testing_classA_dir, vocab)\n",
        "print('The number of positive reviews processed:', len(positive_test_cases))\n",
        "negative_test_cases = process_docs_to_lines(testing_classB_dir, vocab)\n",
        "print('The number of negative reviews processed:', len(negative_test_cases))\n",
        "testing_docs = negative_test_cases + positive_test_cases\n",
        "y_test = np.array([0 for _ in range(len(negative_test_cases))] + [1 for _ in range(len(positive_test_cases))])\n",
        "print('The shape of the encoded test classes:', y_test.shape)"
      ],
      "execution_count": 48,
      "outputs": [
        {
          "output_type": "stream",
          "text": [
            "The number of positive reviews processed: 12500\n",
            "The number of negative reviews processed: 12500\n",
            "The shape of the encoded test classes: (25000,)\n"
          ],
          "name": "stdout"
        }
      ]
    },
    {
      "cell_type": "code",
      "metadata": {
        "id": "smHnkesDP8c2"
      },
      "source": [
        "# prepare bag of words encoding of docs\n",
        "def encode_test_data(train_docs, val_docs, maxlen):\n",
        "    # create the tokenizer\n",
        "    tokenizer = Tokenizer()\n",
        "    # fit the tokenizer on the documents\n",
        "    tokenizer.fit_on_texts(train_docs)\n",
        "    # encode validation data set\n",
        "    encoded_docs = tokenizer.texts_to_sequences(val_docs)\n",
        "    # pad sequences\n",
        "    val_encoded = pad_sequences(encoded_docs, maxlen=maxlen, padding='post')\n",
        "    # define vocabulary size (largest integer value)\n",
        "    vocab_size = len(tokenizer.word_index) + 1\n",
        "    return val_encoded, vocab_size"
      ],
      "execution_count": 49,
      "outputs": []
    },
    {
      "cell_type": "code",
      "metadata": {
        "id": "otmIR9a2P8c2",
        "colab": {
          "base_uri": "https://localhost:8080/"
        },
        "outputId": "a317604d-4598-40de-f455-f54e61df26c6"
      },
      "source": [
        "# encode test datasets\n",
        "X_test, vocabulary_size = encode_test_data(training_docs, testing_docs, max_length)\n",
        "print('The shape of the encoded test dataset:', X_test.shape)"
      ],
      "execution_count": 50,
      "outputs": [
        {
          "output_type": "stream",
          "text": [
            "The shape of the encoded test dataset: (25000, 1447)\n"
          ],
          "name": "stdout"
        }
      ]
    },
    {
      "cell_type": "code",
      "metadata": {
        "id": "gmBr0X-XP8c2",
        "colab": {
          "base_uri": "https://localhost:8080/"
        },
        "outputId": "489cf27f-897c-4cbd-c53a-200f86a70c3d"
      },
      "source": [
        "# test_predictions = final_model.predict(X_test, batch_size=default_batch, verbose=1)\n",
        "test_predictions = (final_model.predict(X_test) > 0.5).astype(\"int32\").ravel()\n",
        "print('Accuracy Score:', accuracy_score(y_test, test_predictions))\n",
        "print(confusion_matrix(y_test, test_predictions))\n",
        "print(classification_report(y_test, test_predictions))"
      ],
      "execution_count": 51,
      "outputs": [
        {
          "output_type": "stream",
          "text": [
            "Accuracy Score: 0.85844\n",
            "[[10870  1630]\n",
            " [ 1909 10591]]\n",
            "              precision    recall  f1-score   support\n",
            "\n",
            "           0       0.85      0.87      0.86     12500\n",
            "           1       0.87      0.85      0.86     12500\n",
            "\n",
            "    accuracy                           0.86     25000\n",
            "   macro avg       0.86      0.86      0.86     25000\n",
            "weighted avg       0.86      0.86      0.86     25000\n",
            "\n"
          ],
          "name": "stdout"
        }
      ]
    },
    {
      "cell_type": "code",
      "metadata": {
        "id": "S47yeSrOR9P-"
      },
      "source": [
        "if notifyStatus: status_notify('(TensorFlow Text Classification) Task 5 - Finalize Model and Make Predictions completed on ' + datetime.now().strftime('%A %B %d, %Y %I:%M:%S %p'))"
      ],
      "execution_count": 52,
      "outputs": []
    },
    {
      "cell_type": "code",
      "metadata": {
        "colab": {
          "base_uri": "https://localhost:8080/"
        },
        "id": "n_kTqSp4R9QA",
        "outputId": "be38ce94-5bf1-4e25-c254-e450a679fade"
      },
      "source": [
        "print ('Total time for the script:',(datetime.now() - startTimeScript))"
      ],
      "execution_count": 53,
      "outputs": [
        {
          "output_type": "stream",
          "text": [
            "Total time for the script: 0:26:06.959112\n"
          ],
          "name": "stdout"
        }
      ]
    }
  ]
}