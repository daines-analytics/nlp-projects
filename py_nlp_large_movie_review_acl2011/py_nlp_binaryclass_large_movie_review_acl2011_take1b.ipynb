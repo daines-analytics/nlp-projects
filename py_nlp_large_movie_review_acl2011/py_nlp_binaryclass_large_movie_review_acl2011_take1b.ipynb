{
 "cells": [
  {
   "cell_type": "markdown",
   "metadata": {
    "id": "BthRezPlR9Ow"
   },
   "source": [
    "# Text Classification Model for Large Movie Review Using TensorFlow Take 1, Part B\n",
    "### David Lowe\n",
    "### March 5, 2021\n",
    "\n",
    "Template Credit: Adapted from a template made available by Dr. Jason Brownlee of Machine Learning Mastery. [https://machinelearningmastery.com/]\n",
    "\n",
    "SUMMARY: This project aims to construct a text classification model using a neural network and document the end-to-end steps using a template. The Large Movie Review dataset is a binary classification situation where we attempt to predict one of the two possible outcomes.\n",
    "\n",
    "INTRODUCTION: The Large Movie Review Dataset is a collection of movie reviews used in the research paper \"Learning Word Vectors for Sentiment Analysis\" by Andrew L. Maas, Raymond E. Daly, Peter T. Pham, Dan Huang, Andrew Y. Ng, and Christopher Potts, The 49th Annual Meeting of the Association for Computational Linguistics (ACL 2011). The dataset comprises 25,000 highly polar movie reviews for training and 25,000 for testing.\n",
    "\n",
    "This Take1 iteration will construct a bag-of-words model and analyze it with a simple TensorFlow deep learning network. Due to the system's memory limitation, we have to break up the script processing into two parts. Part A will test the model with the training dataset using a five-fold validation. Part B will train the final model with the entire training dataset and make predictions on a previously unseen test dataset.\n",
    "\n",
    "ANALYSIS: In this Take1 iteration, the bag-of-words model's performance achieved an average accuracy score of 87.18% after 20 epochs with five iterations of cross-validation. Furthermore, the final model processed the test dataset with an accuracy measurement of 85.24%.\n",
    "\n",
    "CONCLUSION: In this modeling iteration, the bag-of-words TensorFlow model appeared to be suitable for modeling this dataset. We should consider experimenting with TensorFlow for further modeling.\n",
    "\n",
    "Dataset Used: Large Movie Review Dataset\n",
    "\n",
    "Dataset ML Model: Binary class text classification with text-oriented features\n",
    "\n",
    "Dataset Reference: https://ai.stanford.edu/~amaas/papers/wvSent_acl2011.bib\n",
    "\n",
    "One potential source of performance benchmarks: https://ai.stanford.edu/~amaas/data/sentiment/ and https://ai.stanford.edu/~amaas/papers/wvSent_acl2011.pdf\n",
    "\n",
    "A deep-learning text classification project generally can be broken down into five major tasks:\n",
    "\n",
    "1. Prepare Environment\n",
    "2. Load and Prepare Text Data\n",
    "3. Define and Train Models\n",
    "4. Evaluate and Optimize Models\n",
    "5. Finalize Model and Make Predictions"
   ]
  },
  {
   "cell_type": "markdown",
   "metadata": {
    "id": "IZamo1ynR9Oz"
   },
   "source": [
    "# Task 1 - Prepare Environment"
   ]
  },
  {
   "cell_type": "code",
   "execution_count": 1,
   "metadata": {
    "colab": {
     "base_uri": "https://localhost:8080/"
    },
    "id": "2N3QHMbUR9Oz",
    "outputId": "2e8152bf-215e-4bc1-f19f-3a208e1c9bfa"
   },
   "outputs": [],
   "source": [
    "# # Install the packages to support accessing environment variable and SQL databases\n",
    "# !pip install python-dotenv PyMySQL boto3"
   ]
  },
  {
   "cell_type": "code",
   "execution_count": 2,
   "metadata": {
    "colab": {
     "base_uri": "https://localhost:8080/"
    },
    "id": "ZOWG9MDAR9O2",
    "outputId": "1e1308b7-ac4e-4b11-deeb-4e3877712fa7"
   },
   "outputs": [],
   "source": [
    "# # Retrieve GPU configuration information from Colab\n",
    "# gpu_info = !nvidia-smi\n",
    "# gpu_info = '\\n'.join(gpu_info)\n",
    "# if gpu_info.find('failed') >= 0:\n",
    "#     print('Select the Runtime → \"Change runtime type\" menu to enable a GPU accelerator, ')\n",
    "#     print('and then re-execute this cell.')\n",
    "# else:\n",
    "#     print(gpu_info)"
   ]
  },
  {
   "cell_type": "code",
   "execution_count": 3,
   "metadata": {
    "colab": {
     "base_uri": "https://localhost:8080/"
    },
    "id": "ryCwWMZuR9O4",
    "outputId": "6bb39b0f-00e8-440a-e98c-1947cfd617b4"
   },
   "outputs": [],
   "source": [
    "# # Retrieve memory configuration information from Colab\n",
    "# from psutil import virtual_memory\n",
    "# ram_gb = virtual_memory().total / 1e9\n",
    "# print('Your runtime has {:.1f} gigabytes of available RAM\\n'.format(ram_gb))\n",
    "\n",
    "# if ram_gb < 20:\n",
    "#     print('To enable a high-RAM runtime, select the Runtime → \"Change runtime type\"')\n",
    "#     print('menu, and then select High-RAM in the Runtime shape dropdown. Then, ')\n",
    "#     print('re-execute this cell.')\n",
    "# else:\n",
    "#     print('You are using a high-RAM runtime!')"
   ]
  },
  {
   "cell_type": "code",
   "execution_count": 4,
   "metadata": {
    "colab": {
     "base_uri": "https://localhost:8080/"
    },
    "id": "WfPiU9LaR9O7",
    "outputId": "6a68c8f3-d61e-4bb9-e6af-e2f946c184f4"
   },
   "outputs": [
    {
     "name": "stdout",
     "output_type": "stream",
     "text": [
      "The number of available CPUs is: 4\n"
     ]
    }
   ],
   "source": [
    "# Retrieve CPU information from the system\n",
    "ncpu = !nproc\n",
    "print(\"The number of available CPUs is:\", ncpu[0])"
   ]
  },
  {
   "cell_type": "markdown",
   "metadata": {
    "id": "hUw0fDwqR9O-"
   },
   "source": [
    "## 1.a) Load libraries and modules"
   ]
  },
  {
   "cell_type": "code",
   "execution_count": 5,
   "metadata": {
    "id": "UpJD2SzRR9O-"
   },
   "outputs": [],
   "source": [
    "# Set the random seed number for reproducible results\n",
    "seedNum = 888"
   ]
  },
  {
   "cell_type": "code",
   "execution_count": 6,
   "metadata": {
    "colab": {
     "base_uri": "https://localhost:8080/"
    },
    "id": "5yDoBs19R9PA",
    "outputId": "5c5761c9-d774-4ba8-ba19-79a10c9f6a6e"
   },
   "outputs": [],
   "source": [
    "# Load libraries and packages\n",
    "import random\n",
    "random.seed(seedNum)\n",
    "import numpy as np\n",
    "np.random.seed(seedNum)\n",
    "import pandas as pd\n",
    "import matplotlib.pyplot as plt\n",
    "import matplotlib.image as mpimg\n",
    "import os\n",
    "import sys\n",
    "import boto3\n",
    "import shutil\n",
    "import string\n",
    "import nltk\n",
    "from nltk.corpus import stopwords\n",
    "from collections import Counter\n",
    "from datetime import datetime\n",
    "from dotenv import load_dotenv\n",
    "from sklearn.model_selection import RepeatedKFold\n",
    "from sklearn.metrics import accuracy_score\n",
    "from sklearn.metrics import confusion_matrix\n",
    "from sklearn.metrics import classification_report\n",
    "import tensorflow as tf\n",
    "tf.random.set_seed(seedNum)\n",
    "from tensorflow import keras\n",
    "from tensorflow.keras.preprocessing.text import Tokenizer\n",
    "from tensorflow.keras.callbacks import ReduceLROnPlateau"
   ]
  },
  {
   "cell_type": "code",
   "execution_count": 7,
   "metadata": {},
   "outputs": [
    {
     "name": "stderr",
     "output_type": "stream",
     "text": [
      "[nltk_data] Downloading collection 'popular'\n",
      "[nltk_data]    | \n",
      "[nltk_data]    | Downloading package cmudict to\n",
      "[nltk_data]    |     /home/pythonml/nltk_data...\n",
      "[nltk_data]    |   Package cmudict is already up-to-date!\n",
      "[nltk_data]    | Downloading package gazetteers to\n",
      "[nltk_data]    |     /home/pythonml/nltk_data...\n",
      "[nltk_data]    |   Package gazetteers is already up-to-date!\n",
      "[nltk_data]    | Downloading package genesis to\n",
      "[nltk_data]    |     /home/pythonml/nltk_data...\n",
      "[nltk_data]    |   Package genesis is already up-to-date!\n",
      "[nltk_data]    | Downloading package gutenberg to\n",
      "[nltk_data]    |     /home/pythonml/nltk_data...\n",
      "[nltk_data]    |   Package gutenberg is already up-to-date!\n",
      "[nltk_data]    | Downloading package inaugural to\n",
      "[nltk_data]    |     /home/pythonml/nltk_data...\n",
      "[nltk_data]    |   Package inaugural is already up-to-date!\n",
      "[nltk_data]    | Downloading package movie_reviews to\n",
      "[nltk_data]    |     /home/pythonml/nltk_data...\n",
      "[nltk_data]    |   Package movie_reviews is already up-to-date!\n",
      "[nltk_data]    | Downloading package names to\n",
      "[nltk_data]    |     /home/pythonml/nltk_data...\n",
      "[nltk_data]    |   Package names is already up-to-date!\n",
      "[nltk_data]    | Downloading package shakespeare to\n",
      "[nltk_data]    |     /home/pythonml/nltk_data...\n",
      "[nltk_data]    |   Package shakespeare is already up-to-date!\n",
      "[nltk_data]    | Downloading package stopwords to\n",
      "[nltk_data]    |     /home/pythonml/nltk_data...\n",
      "[nltk_data]    |   Package stopwords is already up-to-date!\n",
      "[nltk_data]    | Downloading package treebank to\n",
      "[nltk_data]    |     /home/pythonml/nltk_data...\n",
      "[nltk_data]    |   Package treebank is already up-to-date!\n",
      "[nltk_data]    | Downloading package twitter_samples to\n",
      "[nltk_data]    |     /home/pythonml/nltk_data...\n",
      "[nltk_data]    |   Package twitter_samples is already up-to-date!\n",
      "[nltk_data]    | Downloading package omw to\n",
      "[nltk_data]    |     /home/pythonml/nltk_data...\n",
      "[nltk_data]    |   Package omw is already up-to-date!\n",
      "[nltk_data]    | Downloading package wordnet to\n",
      "[nltk_data]    |     /home/pythonml/nltk_data...\n",
      "[nltk_data]    |   Package wordnet is already up-to-date!\n",
      "[nltk_data]    | Downloading package wordnet_ic to\n",
      "[nltk_data]    |     /home/pythonml/nltk_data...\n",
      "[nltk_data]    |   Package wordnet_ic is already up-to-date!\n",
      "[nltk_data]    | Downloading package words to\n",
      "[nltk_data]    |     /home/pythonml/nltk_data...\n",
      "[nltk_data]    |   Package words is already up-to-date!\n",
      "[nltk_data]    | Downloading package maxent_ne_chunker to\n",
      "[nltk_data]    |     /home/pythonml/nltk_data...\n",
      "[nltk_data]    |   Package maxent_ne_chunker is already up-to-date!\n",
      "[nltk_data]    | Downloading package punkt to\n",
      "[nltk_data]    |     /home/pythonml/nltk_data...\n",
      "[nltk_data]    |   Package punkt is already up-to-date!\n",
      "[nltk_data]    | Downloading package snowball_data to\n",
      "[nltk_data]    |     /home/pythonml/nltk_data...\n",
      "[nltk_data]    |   Package snowball_data is already up-to-date!\n",
      "[nltk_data]    | Downloading package averaged_perceptron_tagger to\n",
      "[nltk_data]    |     /home/pythonml/nltk_data...\n",
      "[nltk_data]    |   Package averaged_perceptron_tagger is already up-\n",
      "[nltk_data]    |       to-date!\n",
      "[nltk_data]    | \n",
      "[nltk_data]  Done downloading collection popular\n"
     ]
    },
    {
     "data": {
      "text/plain": [
       "True"
      ]
     },
     "execution_count": 7,
     "metadata": {},
     "output_type": "execute_result"
    }
   ],
   "source": [
    "nltk.download('popular')"
   ]
  },
  {
   "cell_type": "markdown",
   "metadata": {
    "id": "RcIz9xXxR9PC"
   },
   "source": [
    "## 1.b) Set up the controlling parameters and functions"
   ]
  },
  {
   "cell_type": "code",
   "execution_count": 8,
   "metadata": {
    "colab": {
     "base_uri": "https://localhost:8080/"
    },
    "id": "YecJPSrfR9PC",
    "outputId": "bc0304a5-e471-4568-826e-750a5220e2a7"
   },
   "outputs": [
    {
     "name": "stdout",
     "output_type": "stream",
     "text": [
      "Num GPUs Available: 0\n",
      "TensorFlow version: 2.3.1\n"
     ]
    }
   ],
   "source": [
    "# Begin the timer for the script processing\n",
    "startTimeScript = datetime.now()\n",
    "\n",
    "# Set up the number of CPU cores available for multi-thread processing\n",
    "n_jobs = 1\n",
    "\n",
    "# Set up the flag to stop sending progress emails (setting to True will send status emails!)\n",
    "notifyStatus = False\n",
    "\n",
    "# Set Pandas options\n",
    "pd.set_option(\"display.max_rows\", None)\n",
    "pd.set_option(\"display.max_columns\", None)\n",
    "pd.set_option(\"display.width\", 140)\n",
    "\n",
    "# Set the percentage sizes for splitting the dataset\n",
    "test_set_size = 0.2\n",
    "val_set_size = 0.25\n",
    "\n",
    "# Set the number of folds for cross validation\n",
    "n_folds = 5\n",
    "n_iterations = 1\n",
    "\n",
    "# Set various default modeling parameters\n",
    "default_loss = 'binary_crossentropy'\n",
    "default_metrics = ['accuracy']\n",
    "default_optimizer = tf.keras.optimizers.Adam(learning_rate=0.001)\n",
    "default_kernel_init = tf.keras.initializers.GlorotUniform(seed=seedNum)\n",
    "default_epochs = 20\n",
    "default_batch_size = 1\n",
    "\n",
    "# Define the labels to use for graphing the data\n",
    "train_metric = \"accuracy\"\n",
    "validation_metric = \"val_accuracy\"\n",
    "train_loss = \"loss\"\n",
    "validation_loss = \"val_loss\"\n",
    "\n",
    "# Check the number of GPUs accessible through TensorFlow\n",
    "print('Num GPUs Available:', len(tf.config.list_physical_devices('GPU')))\n",
    "\n",
    "# Print out the TensorFlow version for confirmation\n",
    "print('TensorFlow version:', tf.__version__)"
   ]
  },
  {
   "cell_type": "code",
   "execution_count": 9,
   "metadata": {
    "id": "ggPdMUQfR9PE"
   },
   "outputs": [],
   "source": [
    "# Set up the parent directory location for loading the dotenv files\n",
    "# from google.colab import drive\n",
    "# drive.mount('/content/gdrive')\n",
    "# gdrivePrefix = '/content/gdrive/My Drive/Colab_Downloads/'\n",
    "# env_path = '/content/gdrive/My Drive/Colab Notebooks/'\n",
    "# dotenv_path = env_path + \"python_script.env\"\n",
    "# load_dotenv(dotenv_path=dotenv_path)\n",
    "\n",
    "# Set up the dotenv file for retrieving environment variables\n",
    "# env_path = \"/Users/david/PycharmProjects/\"\n",
    "# dotenv_path = env_path + \"python_script.env\"\n",
    "# load_dotenv(dotenv_path=dotenv_path)"
   ]
  },
  {
   "cell_type": "code",
   "execution_count": 10,
   "metadata": {
    "id": "1j-y-SvmR9PG"
   },
   "outputs": [],
   "source": [
    "# Set up the email notification function\n",
    "def status_notify(msg_text):\n",
    "    access_key = os.environ.get('SNS_ACCESS_KEY')\n",
    "    secret_key = os.environ.get('SNS_SECRET_KEY')\n",
    "    aws_region = os.environ.get('SNS_AWS_REGION')\n",
    "    topic_arn = os.environ.get('SNS_TOPIC_ARN')\n",
    "    if (access_key is None) or (secret_key is None) or (aws_region is None):\n",
    "        sys.exit(\"Incomplete notification setup info. Script Processing Aborted!!!\")\n",
    "    sns = boto3.client('sns', aws_access_key_id=access_key, aws_secret_access_key=secret_key, region_name=aws_region)\n",
    "    response = sns.publish(TopicArn=topic_arn, Message=msg_text)\n",
    "    if response['ResponseMetadata']['HTTPStatusCode'] != 200 :\n",
    "        print('Status notification not OK with HTTP status code:', response['ResponseMetadata']['HTTPStatusCode'])"
   ]
  },
  {
   "cell_type": "code",
   "execution_count": 11,
   "metadata": {
    "id": "KDY6p9pWR9PI"
   },
   "outputs": [],
   "source": [
    "if notifyStatus: status_notify('(TensorFlow Text Classification) Task 1 - Prepare Environment has begun on ' + datetime.now().strftime('%A %B %d, %Y %I:%M:%S %p'))"
   ]
  },
  {
   "cell_type": "code",
   "execution_count": 12,
   "metadata": {
    "id": "YQtFgiRNR9PJ"
   },
   "outputs": [],
   "source": [
    "# Reset the random number generators\n",
    "def reset_random(x):\n",
    "    random.seed(x)\n",
    "    np.random.seed(x)\n",
    "    tf.random.set_seed(x)"
   ]
  },
  {
   "cell_type": "code",
   "execution_count": 13,
   "metadata": {
    "collapsed": false,
    "id": "7auUp3NTR9PL",
    "jupyter": {
     "outputs_hidden": false
    },
    "pycharm": {
     "name": "#%%\n"
    }
   },
   "outputs": [],
   "source": [
    "if notifyStatus: status_notify('(TensorFlow Text Classification) Task 1 - Prepare Environment completed on ' + datetime.now().strftime('%A %B %d, %Y %I:%M:%S %p'))"
   ]
  },
  {
   "cell_type": "markdown",
   "metadata": {
    "id": "HkkVYtk_R9PN"
   },
   "source": [
    "# Task 2 - Load and Prepare Text Data"
   ]
  },
  {
   "cell_type": "code",
   "execution_count": 14,
   "metadata": {
    "collapsed": false,
    "id": "pX4nz8fYR9PN",
    "jupyter": {
     "outputs_hidden": false
    },
    "pycharm": {
     "name": "#%%\n"
    }
   },
   "outputs": [],
   "source": [
    "if notifyStatus: status_notify('(TensorFlow Text Classification) Task 2 - Load and Prepare Text Data has begun on ' + datetime.now().strftime('%A %B %d, %Y %I:%M:%S %p'))"
   ]
  },
  {
   "cell_type": "markdown",
   "metadata": {},
   "source": [
    "## 2.a) Download Text Data Archive"
   ]
  },
  {
   "cell_type": "code",
   "execution_count": 15,
   "metadata": {
    "id": "72uuLoG4R9PP"
   },
   "outputs": [],
   "source": [
    "# Clean up the old files and download directories before receiving new ones\n",
    "!rm -rf staging/\n",
    "!rm aclImdb_v1.tar.gz\n",
    "!rm vocabulary.txt"
   ]
  },
  {
   "cell_type": "code",
   "execution_count": 16,
   "metadata": {
    "colab": {
     "base_uri": "https://localhost:8080/"
    },
    "id": "zpFEjo72R9PR",
    "outputId": "dd05f54a-fac8-40d3-e4a2-724354b083dd"
   },
   "outputs": [
    {
     "name": "stdout",
     "output_type": "stream",
     "text": [
      "--2021-03-01 06:09:00--  https://dainesanalytics.com/datasets/acl2011-large-movie-review/aclImdb_v1.tar.gz\n",
      "Resolving dainesanalytics.com (dainesanalytics.com)... 13.226.254.77, 13.226.254.110, 13.226.254.13, ...\n",
      "Connecting to dainesanalytics.com (dainesanalytics.com)|13.226.254.77|:443... connected.\n",
      "HTTP request sent, awaiting response... 200 OK\n",
      "Length: 84125825 (80M) [application/x-gzip]\n",
      "Saving to: ‘aclImdb_v1.tar.gz’\n",
      "\n",
      "aclImdb_v1.tar.gz   100%[===================>]  80.23M  33.4MB/s    in 2.4s    \n",
      "\n",
      "2021-03-01 06:09:02 (33.4 MB/s) - ‘aclImdb_v1.tar.gz’ saved [84125825/84125825]\n",
      "\n"
     ]
    }
   ],
   "source": [
    "!wget https://dainesanalytics.com/datasets/acl2011-large-movie-review/aclImdb_v1.tar.gz"
   ]
  },
  {
   "cell_type": "markdown",
   "metadata": {},
   "source": [
    "## 2.b) Splitting Data for Training and Validation"
   ]
  },
  {
   "cell_type": "code",
   "execution_count": 17,
   "metadata": {
    "id": "toRUbKUuR9PV"
   },
   "outputs": [],
   "source": [
    "staging_dir = 'staging/'\n",
    "!mkdir staging/"
   ]
  },
  {
   "cell_type": "code",
   "execution_count": 18,
   "metadata": {
    "id": "tJJNvd7fR9PX"
   },
   "outputs": [],
   "source": [
    "local_archive = 'aclImdb_v1.tar.gz'\n",
    "shutil.unpack_archive(local_archive, staging_dir)"
   ]
  },
  {
   "cell_type": "code",
   "execution_count": 19,
   "metadata": {
    "id": "z-RNe5RDR9PY"
   },
   "outputs": [],
   "source": [
    "training_dir = 'staging/aclImdb/train/'\n",
    "testing_dir = 'staging/aclImdb/test/'\n",
    "classA_name = 'pos'\n",
    "classB_name = 'neg'"
   ]
  },
  {
   "cell_type": "code",
   "execution_count": 20,
   "metadata": {},
   "outputs": [
    {
     "name": "stdout",
     "output_type": "stream",
     "text": [
      "Number of training images for pos : 12500\n",
      "Training samples for pos : ['127_7.txt', '126_10.txt', '125_7.txt', '124_10.txt', '123_10.txt', '122_9.txt', '121_10.txt', '120_8.txt', '119_10.txt', '118_8.txt']\n",
      "Number of training images for neg : 12500\n",
      "Training samples for neg : ['127_4.txt', '126_1.txt', '125_1.txt', '124_2.txt', '123_1.txt', '122_1.txt', '121_4.txt', '120_1.txt', '119_4.txt', '118_2.txt']\n"
     ]
    }
   ],
   "source": [
    "# Brief listing of training text files for both classes before splitting\n",
    "training_classA_dir = os.path.join(training_dir, classA_name)\n",
    "training_classA_files = os.listdir(training_classA_dir)\n",
    "print('Number of training images for', classA_name, ':', len(training_classA_files))\n",
    "print('Training samples for', classA_name, ':', training_classA_files[:10])\n",
    "\n",
    "training_classB_dir = os.path.join(training_dir, classB_name)\n",
    "training_classB_files = os.listdir(training_classB_dir)\n",
    "print('Number of training images for', classB_name, ':', len(training_classB_files))\n",
    "print('Training samples for', classB_name, ':', training_classB_files[:10])"
   ]
  },
  {
   "cell_type": "code",
   "execution_count": 21,
   "metadata": {},
   "outputs": [
    {
     "name": "stdout",
     "output_type": "stream",
     "text": [
      "Number of testing files for pos : 12500\n",
      "Test samples for pos : ['127_10.txt', '126_10.txt', '125_7.txt', '124_10.txt', '123_10.txt', '122_8.txt', '121_8.txt', '120_9.txt', '119_9.txt', '118_10.txt']\n",
      "Number of testing files for neg : 12500\n",
      "Test samples for neg : ['127_3.txt', '126_4.txt', '125_3.txt', '124_2.txt', '123_4.txt', '122_4.txt', '121_4.txt', '120_2.txt', '119_3.txt', '118_1.txt']\n"
     ]
    }
   ],
   "source": [
    "# Brief listing of testing text files for both classes after splitting\n",
    "testing_classA_dir = os.path.join(testing_dir, classA_name)\n",
    "testing_classA_files = os.listdir(testing_classA_dir)\n",
    "print('Number of testing files for', classA_name, ':', len(testing_classA_files))\n",
    "print('Test samples for', classA_name, ':', testing_classA_files[:10])\n",
    "\n",
    "testing_classB_dir = os.path.join(testing_dir, classB_name)\n",
    "testing_classB_files = os.listdir(testing_classB_dir)\n",
    "print('Number of testing files for', classB_name, ':', len(testing_classB_files))\n",
    "print('Test samples for', classB_name, ':', testing_classB_files[:10])"
   ]
  },
  {
   "cell_type": "markdown",
   "metadata": {},
   "source": [
    "## 2.c) Load Document and Build Vocabulary"
   ]
  },
  {
   "cell_type": "code",
   "execution_count": 22,
   "metadata": {},
   "outputs": [],
   "source": [
    "# load doc into memory\n",
    "def load_doc(filename):\n",
    "    # open the file as read only\n",
    "    file = open(filename, 'r')\n",
    "    # read all text\n",
    "    text = file.read()\n",
    "    # close the file\n",
    "    file.close()\n",
    "    return text"
   ]
  },
  {
   "cell_type": "code",
   "execution_count": 23,
   "metadata": {
    "colab": {
     "base_uri": "https://localhost:8080/"
    },
    "id": "A6ajSXvMR9Pb",
    "outputId": "d055509f-c17a-43d0-bffd-4406b1039775"
   },
   "outputs": [],
   "source": [
    "# turn a doc into clean tokens\n",
    "def clean_doc(doc):\n",
    "    # split into tokens by white space\n",
    "    tokens = doc.split()\n",
    "    # remove punctuation from each token\n",
    "    table = str.maketrans('', '', string.punctuation)\n",
    "    tokens = [w.translate(table) for w in tokens]\n",
    "    # remove remaining tokens that are not alphabetic\n",
    "    tokens = [word for word in tokens if word.isalpha()]\n",
    "    # filter out stop words\n",
    "    stop_words = set(stopwords.words('english'))\n",
    "    tokens = [w for w in tokens if not w in stop_words]\n",
    "    # filter out short tokens\n",
    "    tokens = [word for word in tokens if len(word) > 1]\n",
    "    return tokens"
   ]
  },
  {
   "cell_type": "code",
   "execution_count": 24,
   "metadata": {},
   "outputs": [],
   "source": [
    "# load doc and add to vocab\n",
    "def add_doc_to_vocab(filename, vocab):\n",
    "    # load doc\n",
    "    doc = load_doc(filename)\n",
    "    # clean doc\n",
    "    tokens = clean_doc(doc)\n",
    "    # update counts\n",
    "    vocab.update(tokens)"
   ]
  },
  {
   "cell_type": "code",
   "execution_count": 25,
   "metadata": {},
   "outputs": [],
   "source": [
    "# load all docs in a directory\n",
    "def build_vocab_from_docs(directory, vocab):\n",
    "    # walk through all files in the folder\n",
    "    i = 0\n",
    "    print('Processing the text files and showing the first 10...')\n",
    "    for filename in os.listdir(directory):\n",
    "        # skip files that do not have the right extension\n",
    "        if not filename.endswith(\".txt\"):\n",
    "            continue\n",
    "        # create the full path of the file to open\n",
    "        path = directory + '/' + filename\n",
    "        # add doc to vocab\n",
    "        add_doc_to_vocab(path, vocab)\n",
    "        i = i + 1\n",
    "        if i < 10: print('Loaded %s' % path)\n",
    "    print('Total number of text files loaded:', i, '\\n')"
   ]
  },
  {
   "cell_type": "code",
   "execution_count": 26,
   "metadata": {},
   "outputs": [
    {
     "name": "stdout",
     "output_type": "stream",
     "text": [
      "Processing the text files and showing the first 10...\n",
      "Loaded staging/aclImdb/train/pos/127_7.txt\n",
      "Loaded staging/aclImdb/train/pos/126_10.txt\n",
      "Loaded staging/aclImdb/train/pos/125_7.txt\n",
      "Loaded staging/aclImdb/train/pos/124_10.txt\n",
      "Loaded staging/aclImdb/train/pos/123_10.txt\n",
      "Loaded staging/aclImdb/train/pos/122_9.txt\n",
      "Loaded staging/aclImdb/train/pos/121_10.txt\n",
      "Loaded staging/aclImdb/train/pos/120_8.txt\n",
      "Loaded staging/aclImdb/train/pos/119_10.txt\n",
      "Total number of text files loaded: 12500 \n",
      "\n",
      "Processing the text files and showing the first 10...\n",
      "Loaded staging/aclImdb/train/neg/127_4.txt\n",
      "Loaded staging/aclImdb/train/neg/126_1.txt\n",
      "Loaded staging/aclImdb/train/neg/125_1.txt\n",
      "Loaded staging/aclImdb/train/neg/124_2.txt\n",
      "Loaded staging/aclImdb/train/neg/123_1.txt\n",
      "Loaded staging/aclImdb/train/neg/122_1.txt\n",
      "Loaded staging/aclImdb/train/neg/121_4.txt\n",
      "Loaded staging/aclImdb/train/neg/120_1.txt\n",
      "Loaded staging/aclImdb/train/neg/119_4.txt\n",
      "Total number of text files loaded: 12500 \n",
      "\n",
      "The total number of words in the vocabulary: 138430\n",
      "The top 50 words in the vocabulary:\n",
      " [('br', 57141), ('The', 44351), ('movie', 41198), ('film', 37009), ('one', 23188), ('like', 18876), ('This', 14725), ('good', 13927), ('It', 12074), ('would', 12010), ('time', 11504), ('really', 11276), ('story', 11058), ('even', 10882), ('see', 10854), ('much', 9289), ('get', 8996), ('people', 8474), ('bad', 8456), ('great', 8260), ('made', 7887), ('first', 7881), ('well', 7850), ('also', 7722), ('make', 7599), ('films', 7597), ('movies', 7587), ('could', 7567), ('way', 7467), ('dont', 7333), ('But', 7216), ('characters', 7183), ('think', 7078), ('Its', 6738), ('And', 6715), ('seen', 6486), ('character', 6455), ('watch', 6269), ('many', 6233), ('two', 6171), ('plot', 6137), ('acting', 6110), ('never', 6101), ('little', 5981), ('know', 5954), ('In', 5880), ('best', 5717), ('love', 5701), ('show', 5683), ('life', 5651)]\n"
     ]
    }
   ],
   "source": [
    "# define vocab\n",
    "vocab = Counter()\n",
    "# add all docs to vocab\n",
    "build_vocab_from_docs(training_classA_dir, vocab)\n",
    "build_vocab_from_docs(training_classB_dir, vocab)\n",
    "# print the size of the vocab\n",
    "print('The total number of words in the vocabulary:', len(vocab))\n",
    "# print the top words in the vocab\n",
    "top_words = 50\n",
    "print('The top', top_words, 'words in the vocabulary:\\n', vocab.most_common(top_words))"
   ]
  },
  {
   "cell_type": "code",
   "execution_count": 27,
   "metadata": {},
   "outputs": [
    {
     "name": "stdout",
     "output_type": "stream",
     "text": [
      "The number of words with the minimum appearance: 65663\n"
     ]
    }
   ],
   "source": [
    "# keep tokens with a min occurrence\n",
    "min_occurane = 2\n",
    "tokens = [k for k,c in vocab.items() if c >= min_occurane]\n",
    "print('The number of words with the minimum appearance:', len(tokens))"
   ]
  },
  {
   "cell_type": "code",
   "execution_count": 28,
   "metadata": {},
   "outputs": [],
   "source": [
    "# save list to file\n",
    "def save_list(lines, filename):\n",
    "    # convert lines to a single blob of text\n",
    "    data = '\\n'.join(lines)\n",
    "    # open file\n",
    "    file = open(filename, 'w')\n",
    "    # write text\n",
    "    file.write(data)\n",
    "    # close file\n",
    "    file.close()\n",
    "\n",
    "# save tokens to a vocabulary file\n",
    "save_list(tokens, 'vocabulary.txt')"
   ]
  },
  {
   "cell_type": "markdown",
   "metadata": {},
   "source": [
    "## 2.d) Create Tokenizer and Encode the Input Text"
   ]
  },
  {
   "cell_type": "code",
   "execution_count": 29,
   "metadata": {},
   "outputs": [],
   "source": [
    "# load doc, clean and return line of tokens\n",
    "def doc_to_line(filename, vocab):\n",
    "    # load the doc\n",
    "    doc = load_doc(filename)\n",
    "    # clean doc\n",
    "    tokens = clean_doc(doc)\n",
    "    # filter by vocab\n",
    "    tokens = [w for w in tokens if w in vocab]\n",
    "    return ' '.join(tokens)"
   ]
  },
  {
   "cell_type": "code",
   "execution_count": 30,
   "metadata": {},
   "outputs": [],
   "source": [
    "# load all docs in a directory\n",
    "def process_docs_to_lines(directory, vocab):\n",
    "    lines = list()\n",
    "    # walk through all files in the folder\n",
    "    for filename in os.listdir(directory):\n",
    "        # create the full path of the file to open\n",
    "        path = directory + '/' + filename\n",
    "        # load and clean the doc\n",
    "        line = doc_to_line(path, vocab)\n",
    "        # add to list\n",
    "        lines.append(line)\n",
    "    return lines"
   ]
  },
  {
   "cell_type": "code",
   "execution_count": 31,
   "metadata": {},
   "outputs": [
    {
     "name": "stdout",
     "output_type": "stream",
     "text": [
      "Number of tokens in the vocabulary: 65663\n"
     ]
    }
   ],
   "source": [
    "# load the vocabulary\n",
    "vocab_filename = 'vocabulary.txt'\n",
    "vocab = load_doc(vocab_filename)\n",
    "vocab = vocab.split()\n",
    "vocab = set(vocab)\n",
    "print('Number of tokens in the vocabulary:', len(vocab))"
   ]
  },
  {
   "cell_type": "code",
   "execution_count": 32,
   "metadata": {},
   "outputs": [],
   "source": [
    "# prepare bag of words encoding of docs\n",
    "def encode_training_data(train_docs, mode='binary'):\n",
    "    # create the tokenizer\n",
    "    tokenizer = Tokenizer()\n",
    "    # fit the tokenizer on the documents\n",
    "    tokenizer.fit_on_texts(train_docs)\n",
    "    # encode training data set\n",
    "    train_encoded = tokenizer.texts_to_matrix(train_docs, mode=mode)\n",
    "    return train_encoded"
   ]
  },
  {
   "cell_type": "code",
   "execution_count": 33,
   "metadata": {},
   "outputs": [
    {
     "name": "stdout",
     "output_type": "stream",
     "text": [
      "The number of positive reviews processed: 12500\n",
      "The number of negative reviews processed: 12500\n",
      "The shape of the encoded training classes: (25000,)\n"
     ]
    }
   ],
   "source": [
    "# Load all training cases\n",
    "positive_train_cases = process_docs_to_lines(training_classA_dir, vocab)\n",
    "print('The number of positive reviews processed:', len(positive_train_cases))\n",
    "negative_train_cases = process_docs_to_lines(training_classB_dir, vocab)\n",
    "print('The number of negative reviews processed:', len(negative_train_cases))\n",
    "training_docs =  negative_train_cases + positive_train_cases\n",
    "y_train = np.array([0 for _ in range(len(negative_train_cases))] + [1 for _ in range(len(positive_train_cases))])\n",
    "print('The shape of the encoded training classes:', y_train.shape)"
   ]
  },
  {
   "cell_type": "code",
   "execution_count": 34,
   "metadata": {},
   "outputs": [
    {
     "name": "stdout",
     "output_type": "stream",
     "text": [
      "The shape of the encoded training dataset: (25000, 54889)\n"
     ]
    }
   ],
   "source": [
    "# Encode the training dataset\n",
    "X_train = encode_training_data(training_docs)\n",
    "print('The shape of the encoded training dataset:', X_train.shape)"
   ]
  },
  {
   "cell_type": "code",
   "execution_count": 35,
   "metadata": {
    "id": "JdeBWbYeR9Pi"
   },
   "outputs": [],
   "source": [
    "if notifyStatus: status_notify('(TensorFlow Text Classification) Task 2 - Load and Prepare Text Data completed on ' + datetime.now().strftime('%A %B %d, %Y %I:%M:%S %p'))"
   ]
  },
  {
   "cell_type": "markdown",
   "metadata": {
    "id": "jGVOq6P6R9Pj"
   },
   "source": [
    "# Task 3 - Define and Train Models"
   ]
  },
  {
   "cell_type": "code",
   "execution_count": 36,
   "metadata": {
    "id": "W52KEpCWR9Pk"
   },
   "outputs": [],
   "source": [
    "if notifyStatus: status_notify('(TensorFlow Text Classification) Task 3 - Define and Train Models has begun on ' + datetime.now().strftime('%A %B %d, %Y %I:%M:%S %p'))"
   ]
  },
  {
   "cell_type": "code",
   "execution_count": 37,
   "metadata": {},
   "outputs": [],
   "source": [
    "# Define the default numbers of input/output for modeling\n",
    "num_inputs = X_train.shape[1]\n",
    "num_outputs = 1"
   ]
  },
  {
   "cell_type": "code",
   "execution_count": 38,
   "metadata": {},
   "outputs": [],
   "source": [
    "# Define the baseline model for benchmarking\n",
    "def create_nn_model(n_inputs=num_inputs, n_outputs=num_outputs, layer1_nodes=64, layer1_dropout=0, opt_param=default_optimizer, init_param=default_kernel_init):\n",
    "    nn_model = keras.Sequential([\n",
    "        keras.layers.Dense(layer1_nodes, input_shape=(n_inputs,), activation='relu', kernel_initializer=init_param),\n",
    "#         keras.layers.Dropout(layer1_dropout),\n",
    "        keras.layers.Dense(n_outputs, activation='sigmoid', kernel_initializer=init_param)\n",
    "    ])\n",
    "    nn_model.compile(loss=default_loss, optimizer=opt_param, metrics=default_metrics)\n",
    "    return nn_model"
   ]
  },
  {
   "cell_type": "code",
   "execution_count": 39,
   "metadata": {},
   "outputs": [],
   "source": [
    "# # Initialize the default model and get a baseline result\n",
    "# startTimeModule = datetime.now()\n",
    "# results = list()\n",
    "# iteration = 0\n",
    "# cv = RepeatedKFold(n_splits=n_folds, n_repeats=n_iterations, random_state=seedNum)\n",
    "# for train_ix, val_ix in cv.split(X_train):\n",
    "#     feature_train, feature_validation = X_train[train_ix], X_train[val_ix]\n",
    "#     target_train, target_validation = y_train[train_ix], y_train[val_ix]\n",
    "#     reset_random(seedNum)\n",
    "#     baseline_model = create_nn_model()\n",
    "#     baseline_model.fit(feature_train, target_train, epochs=default_epochs, batch_size=default_batch_size, verbose=0)\n",
    "#     model_metric = baseline_model.evaluate(feature_validation, target_validation, verbose=0)[1]\n",
    "#     iteration = iteration + 1\n",
    "#     print('Accuracy measurement from iteration %d >>> %.2f%%' % (iteration, model_metric*100))\n",
    "#     results.append(model_metric)\n",
    "# validation_score = np.mean(results)\n",
    "# validation_variance = np.std(results)\n",
    "# print('Average model accuracy from all iterations: %.2f%% (%.2f%%)' % (validation_score*100, validation_variance*100))\n",
    "# print('Total time for model fitting and cross validating:', (datetime.now() - startTimeModule))"
   ]
  },
  {
   "cell_type": "code",
   "execution_count": 40,
   "metadata": {
    "collapsed": false,
    "id": "5vzQkIfyR9Ps",
    "jupyter": {
     "outputs_hidden": false
    },
    "pycharm": {
     "name": "#%%\n"
    }
   },
   "outputs": [],
   "source": [
    "if notifyStatus: status_notify('(TensorFlow Text Classification) Task 3 - Define and Train Models completed on ' + datetime.now().strftime('%A %B %d, %Y %I:%M:%S %p'))"
   ]
  },
  {
   "cell_type": "markdown",
   "metadata": {
    "id": "Tmuo6X06R9Pu"
   },
   "source": [
    "# Task 4 - Evaluate and Optimize Models"
   ]
  },
  {
   "cell_type": "code",
   "execution_count": 41,
   "metadata": {
    "collapsed": false,
    "id": "h-Xp746uR9Pu",
    "jupyter": {
     "outputs_hidden": false
    },
    "pycharm": {
     "name": "#%%\n"
    }
   },
   "outputs": [],
   "source": [
    "if notifyStatus: status_notify('(TensorFlow Text Classification) Task 4 - Evaluate and Optimize Models has begun on ' + datetime.now().strftime('%A %B %d, %Y %I:%M:%S %p'))"
   ]
  },
  {
   "cell_type": "code",
   "execution_count": 42,
   "metadata": {},
   "outputs": [],
   "source": [
    "# Not applicable for this iteration of modeling"
   ]
  },
  {
   "cell_type": "code",
   "execution_count": 43,
   "metadata": {
    "id": "6n7j3PwoR9P0"
   },
   "outputs": [],
   "source": [
    "if notifyStatus: status_notify('(TensorFlow Text Classification) Task 4 - Evaluate and Optimize Models completed on ' + datetime.now().strftime('%A %B %d, %Y %I:%M:%S %p'))"
   ]
  },
  {
   "cell_type": "markdown",
   "metadata": {
    "id": "oRcXHaGhR9P1"
   },
   "source": [
    "# Task 5 - Finalize Model and Make Predictions"
   ]
  },
  {
   "cell_type": "code",
   "execution_count": 44,
   "metadata": {
    "id": "p3tj_9tBR9P2"
   },
   "outputs": [],
   "source": [
    "if notifyStatus: status_notify('(TensorFlow Text Classification) Task 5 - Finalize Model and Make Predictions has begun on ' + datetime.now().strftime('%A %B %d, %Y %I:%M:%S %p'))"
   ]
  },
  {
   "cell_type": "markdown",
   "metadata": {},
   "source": [
    "## 5.a) Train the Final Model"
   ]
  },
  {
   "cell_type": "code",
   "execution_count": 45,
   "metadata": {},
   "outputs": [
    {
     "name": "stdout",
     "output_type": "stream",
     "text": [
      "Epoch 1/20\n",
      "25000/25000 [==============================] - 221s 9ms/step - loss: 0.3244 - accuracy: 0.8680\n",
      "Epoch 2/20\n",
      "25000/25000 [==============================] - 221s 9ms/step - loss: 0.1544 - accuracy: 0.9408\n",
      "Epoch 3/20\n",
      "25000/25000 [==============================] - 219s 9ms/step - loss: 0.0775 - accuracy: 0.9720\n",
      "Epoch 4/20\n",
      "25000/25000 [==============================] - 219s 9ms/step - loss: 0.0361 - accuracy: 0.9878\n",
      "Epoch 5/20\n",
      "25000/25000 [==============================] - 217s 9ms/step - loss: 0.0185 - accuracy: 0.9940\n",
      "Epoch 6/20\n",
      "25000/25000 [==============================] - 221s 9ms/step - loss: 0.0080 - accuracy: 0.9969\n",
      "Epoch 7/20\n",
      "25000/25000 [==============================] - 217s 9ms/step - loss: 0.0045 - accuracy: 0.9984\n",
      "Epoch 8/20\n",
      "25000/25000 [==============================] - 216s 9ms/step - loss: 0.0019 - accuracy: 0.9991\n",
      "Epoch 9/20\n",
      "25000/25000 [==============================] - 217s 9ms/step - loss: 0.0015 - accuracy: 0.9992\n",
      "Epoch 10/20\n",
      "25000/25000 [==============================] - 217s 9ms/step - loss: 7.2024e-04 - accuracy: 0.9996\n",
      "Epoch 11/20\n",
      "25000/25000 [==============================] - 217s 9ms/step - loss: 4.7156e-04 - accuracy: 0.9996\n",
      "Epoch 12/20\n",
      "25000/25000 [==============================] - 217s 9ms/step - loss: 7.1018e-04 - accuracy: 0.9996\n",
      "Epoch 13/20\n",
      "25000/25000 [==============================] - 218s 9ms/step - loss: 2.5682e-04 - accuracy: 0.9998\n",
      "Epoch 14/20\n",
      "25000/25000 [==============================] - 217s 9ms/step - loss: 2.2746e-04 - accuracy: 0.9998\n",
      "Epoch 15/20\n",
      "25000/25000 [==============================] - 217s 9ms/step - loss: 1.7193e-04 - accuracy: 0.9999\n",
      "Epoch 16/20\n",
      "25000/25000 [==============================] - 217s 9ms/step - loss: 1.5285e-04 - accuracy: 0.9999\n",
      "Epoch 17/20\n",
      "25000/25000 [==============================] - 217s 9ms/step - loss: 1.4037e-04 - accuracy: 0.9998\n",
      "Epoch 18/20\n",
      "25000/25000 [==============================] - 217s 9ms/step - loss: 1.5828e-04 - accuracy: 0.9998\n",
      "Epoch 19/20\n",
      "25000/25000 [==============================] - 217s 9ms/step - loss: 1.3868e-04 - accuracy: 0.9999\n",
      "Epoch 20/20\n",
      "25000/25000 [==============================] - 217s 9ms/step - loss: 1.3876e-04 - accuracy: 0.9999\n"
     ]
    },
    {
     "data": {
      "text/plain": [
       "<tensorflow.python.keras.callbacks.History at 0x7f551dd73400>"
      ]
     },
     "execution_count": 45,
     "metadata": {},
     "output_type": "execute_result"
    }
   ],
   "source": [
    "# Create the final model for evaluating the test dataset\n",
    "reset_random(seedNum)\n",
    "final_model = create_nn_model()\n",
    "final_model.fit(X_train, y_train, epochs=default_epochs, batch_size=default_batch_size, verbose=1)"
   ]
  },
  {
   "cell_type": "code",
   "execution_count": 46,
   "metadata": {},
   "outputs": [
    {
     "name": "stdout",
     "output_type": "stream",
     "text": [
      "Model: \"sequential\"\n",
      "_________________________________________________________________\n",
      "Layer (type)                 Output Shape              Param #   \n",
      "=================================================================\n",
      "dense (Dense)                (None, 64)                3512960   \n",
      "_________________________________________________________________\n",
      "dense_1 (Dense)              (None, 1)                 65        \n",
      "=================================================================\n",
      "Total params: 3,513,025\n",
      "Trainable params: 3,513,025\n",
      "Non-trainable params: 0\n",
      "_________________________________________________________________\n"
     ]
    }
   ],
   "source": [
    "# Summarize the final model\n",
    "final_model.summary()"
   ]
  },
  {
   "cell_type": "markdown",
   "metadata": {},
   "source": [
    "## 5.b) Make Predictions on Test Dataset"
   ]
  },
  {
   "cell_type": "code",
   "execution_count": 47,
   "metadata": {},
   "outputs": [
    {
     "name": "stdout",
     "output_type": "stream",
     "text": [
      "The number of positive reviews processed: 12500\n",
      "The number of negative reviews processed: 12500\n",
      "The shape of the encoded test classes: (25000,)\n"
     ]
    }
   ],
   "source": [
    "# load all test cases\n",
    "positive_test_cases = process_docs_to_lines(testing_classA_dir, vocab)\n",
    "print('The number of positive reviews processed:', len(positive_test_cases))\n",
    "negative_test_cases = process_docs_to_lines(testing_classB_dir, vocab)\n",
    "print('The number of negative reviews processed:', len(negative_test_cases))\n",
    "testing_docs = negative_test_cases + positive_test_cases\n",
    "y_test = np.array([0 for _ in range(len(negative_test_cases))] + [1 for _ in range(len(positive_test_cases))])\n",
    "print('The shape of the encoded test classes:', y_test.shape)"
   ]
  },
  {
   "cell_type": "code",
   "execution_count": 48,
   "metadata": {},
   "outputs": [],
   "source": [
    "# prepare bag of words encoding of docs\n",
    "def encode_test_data(train_docs, val_docs, mode='binary'):\n",
    "    # create the tokenizer\n",
    "    tokenizer = Tokenizer()\n",
    "    # fit the tokenizer on the documents\n",
    "    tokenizer.fit_on_texts(train_docs)\n",
    "    # encode validation data set\n",
    "    val_encoded = tokenizer.texts_to_matrix(val_docs, mode=mode)\n",
    "    return val_encoded"
   ]
  },
  {
   "cell_type": "code",
   "execution_count": 49,
   "metadata": {},
   "outputs": [
    {
     "name": "stdout",
     "output_type": "stream",
     "text": [
      "The shape of the encoded validation dataset: (25000, 54889)\n"
     ]
    }
   ],
   "source": [
    "# Encode the test dataset\n",
    "X_test = encode_test_data(training_docs, testing_docs, 'binary')\n",
    "print('The shape of the encoded validation dataset:', X_test.shape)"
   ]
  },
  {
   "cell_type": "code",
   "execution_count": 50,
   "metadata": {},
   "outputs": [
    {
     "name": "stdout",
     "output_type": "stream",
     "text": [
      "Accuracy Score: 0.85244\n",
      "[[10774  1726]\n",
      " [ 1963 10537]]\n",
      "              precision    recall  f1-score   support\n",
      "\n",
      "           0       0.85      0.86      0.85     12500\n",
      "           1       0.86      0.84      0.85     12500\n",
      "\n",
      "    accuracy                           0.85     25000\n",
      "   macro avg       0.85      0.85      0.85     25000\n",
      "weighted avg       0.85      0.85      0.85     25000\n",
      "\n"
     ]
    }
   ],
   "source": [
    "# test_predictions = final_model.predict(X_test, batch_size=default_batch, verbose=1)\n",
    "test_predictions = (final_model.predict(X_test) > 0.5).astype(\"int32\").ravel()\n",
    "print('Accuracy Score:', accuracy_score(y_test, test_predictions))\n",
    "print(confusion_matrix(y_test, test_predictions))\n",
    "print(classification_report(y_test, test_predictions))"
   ]
  },
  {
   "cell_type": "code",
   "execution_count": 51,
   "metadata": {
    "id": "S47yeSrOR9P-"
   },
   "outputs": [],
   "source": [
    "if notifyStatus: status_notify('(TensorFlow Text Classification) Task 5 - Finalize Model and Make Predictions completed on ' + datetime.now().strftime('%A %B %d, %Y %I:%M:%S %p'))"
   ]
  },
  {
   "cell_type": "code",
   "execution_count": 52,
   "metadata": {
    "colab": {
     "base_uri": "https://localhost:8080/"
    },
    "id": "n_kTqSp4R9QA",
    "outputId": "38f72f65-eea4-443f-cc58-62b4d17cb7b0"
   },
   "outputs": [
    {
     "name": "stdout",
     "output_type": "stream",
     "text": [
      "Total time for the script: 1:17:12.216865\n"
     ]
    }
   ],
   "source": [
    "print ('Total time for the script:',(datetime.now() - startTimeScript))"
   ]
  }
 ],
 "metadata": {
  "accelerator": "GPU",
  "colab": {
   "collapsed_sections": [],
   "name": "py_tensorflow_binaryclass_image_classification_example.ipynb",
   "provenance": [],
   "toc_visible": true
  },
  "kernelspec": {
   "display_name": "Python 3",
   "language": "python",
   "name": "python3"
  },
  "language_info": {
   "codemirror_mode": {
    "name": "ipython",
    "version": 3
   },
   "file_extension": ".py",
   "mimetype": "text/x-python",
   "name": "python",
   "nbconvert_exporter": "python",
   "pygments_lexer": "ipython3",
   "version": "3.8.6"
  }
 },
 "nbformat": 4,
 "nbformat_minor": 4
}
